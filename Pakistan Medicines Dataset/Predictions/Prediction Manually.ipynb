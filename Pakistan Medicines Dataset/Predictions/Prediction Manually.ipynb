{
 "cells": [
  {
   "cell_type": "code",
   "execution_count": 1,
   "id": "4aea0e2b",
   "metadata": {},
   "outputs": [
    {
     "data": {
      "application/vnd.microsoft.datawrangler.viewer.v0+json": {
       "columns": [
        {
         "name": "index",
         "rawType": "int64",
         "type": "integer"
        },
        {
         "name": "Drug Name",
         "rawType": "object",
         "type": "string"
        },
        {
         "name": "Manufacturer",
         "rawType": "object",
         "type": "string"
        },
        {
         "name": "Strength",
         "rawType": "object",
         "type": "string"
        },
        {
         "name": "Form",
         "rawType": "object",
         "type": "unknown"
        },
        {
         "name": "Indication",
         "rawType": "object",
         "type": "unknown"
        },
        {
         "name": "Side Effects",
         "rawType": "object",
         "type": "unknown"
        },
        {
         "name": "Available In",
         "rawType": "object",
         "type": "string"
        },
        {
         "name": "Age Restriction",
         "rawType": "object",
         "type": "unknown"
        },
        {
         "name": "Prescription Required",
         "rawType": "object",
         "type": "string"
        },
        {
         "name": "Price",
         "rawType": "float64",
         "type": "float"
        }
       ],
       "ref": "dfac3c1d-172a-4029-a4ea-f2497f254e48",
       "rows": [
        [
         "0",
         "Panadol",
         "GSK",
         "500mg  ",
         "Tablet",
         "Fever, mild pain",
         "Liver damage (high dose)",
         "All cities",
         null,
         "No",
         "35.0"
        ],
        [
         "1",
         "Arinac Forte",
         "Abott",
         "400mg + 60mg  ",
         "Tablet",
         "Cold, flu, fever, nasal congestion",
         " Nausea, dizziness, dry mouth etc",
         "All cities",
         "12+",
         "Yes",
         null
        ],
        [
         "2",
         "Arinac",
         "Abbott",
         "200mg + 30mg  ",
         null,
         "Cold, flu, nasal congestion",
         "Drowsiness, high BP",
         "All cities",
         "12+",
         "Yes",
         "65.0"
        ],
        [
         "3",
         "OMC-D",
         "Sami Pharma",
         "20mg  ",
         "Tablet",
         "Acidity, gastric issues",
         "Headache, diarrhea",
         "All cities",
         "12+",
         "Yes",
         "100.0"
        ],
        [
         "4",
         "Paracetamol",
         "Various",
         "500mg  ",
         "Tablet",
         "Fever, pain",
         "Liver issues (overdose)",
         "All cities",
         null,
         "No",
         "30.0"
        ],
        [
         "5",
         "Calpol",
         "GSK",
         "500mg",
         "Tablet",
         "Fever and pain in children",
         "Rare skin rash",
         "All cities",
         "0+",
         "No",
         null
        ],
        [
         "6",
         "Brufen",
         "Abbott",
         "400mg  ",
         "Tablet",
         "Pain, inflammation",
         "Stomach upset",
         "All cities",
         "12+",
         "No",
         "70.0"
        ],
        [
         "7",
         "Azomax",
         "Pfizer",
         "500mg  ",
         "Tablet",
         "Infections (respiratory, skin)",
         "Diarrhea, nausea",
         "All cities",
         "12+",
         "Yes",
         "500.0"
        ],
        [
         "8",
         "Amoxil",
         "GSK",
         "500mg  ",
         "Capsule",
         "Bacterial infections",
         "Nausea, allergy",
         "All cities",
         "All ages",
         "Yes",
         "150.0"
        ],
        [
         "9",
         "Disprol",
         "Various",
         "500mg  ",
         "Tablet",
         "Fever, pain",
         "Rash, allergy",
         "All cities",
         null,
         "No",
         "40.0"
        ],
        [
         "10",
         "Augmentin",
         "GSK",
         "625mg  ",
         "Tablet",
         "Strong bacterial infections",
         "Diarrhea, nausea",
         "All cities",
         "12+",
         "Yes",
         "600.0"
        ],
        [
         "11",
         "Flagyl",
         "Pfizer",
         "400mg  ",
         "Tablet",
         "Stomach & intestinal infections",
         "Metallic taste, nausea",
         "All cities",
         "12+",
         "Yes",
         "80.0"
        ],
        [
         "12",
         "Rigix",
         "AGP",
         "10mg  ",
         null,
         "Allergy, sneezing",
         "Drowsiness",
         "All cities",
         "6+",
         "No",
         "50.0"
        ],
        [
         "13",
         "Tamsol D",
         "Himont",
         "0.4mg + 0.5mg  ",
         "Tablet",
         "Prostate enlargement",
         "Dizziness, low BP",
         "All cities",
         "18+",
         "Yes",
         "200.0"
        ],
        [
         "14",
         "Gravinate",
         "Platinum Pharma",
         "50mg  ",
         "Tablet",
         "Nausea, vomiting, motion sickness",
         "Drowsiness",
         "All cities",
         "6+",
         "No",
         "50.0"
        ],
        [
         "15",
         "Panadol Extra",
         "GSK",
         "500mg + 65mg  ",
         null,
         "Headache, fatigue pain",
         "Liver issues, jitteriness",
         "All cities",
         "12+",
         "No",
         "70.0"
        ],
        [
         "16",
         "Panadol Extend",
         "GSK",
         "665mg  ",
         null,
         "Long-lasting pain relief",
         "Liver damage (high dose)",
         "All cities",
         "12+",
         "No",
         "100.0"
        ],
        [
         "17",
         "Disprin",
         "Various",
         "300mg  ",
         null,
         "Headache, blood thinner",
         "Stomach bleeding",
         "All cities",
         "16+",
         "No",
         "30.0"
        ],
        [
         "18",
         "Risek",
         "Getz Pharma",
         "20mg  ",
         null,
         "Acidity, ulcers",
         "Headache, stomach pain",
         "All cities",
         "12+",
         "Yes",
         "100.0"
        ],
        [
         "19",
         "ORS Sachets",
         "Various",
         "N/A  ",
         "Oral Powder",
         "Dehydration",
         null,
         "All cities",
         "All ages",
         "No",
         null
        ],
        [
         "20",
         "Ventolin",
         "GSK",
         "4mg\n",
         "Inhaler",
         "Asthma, breathing issues",
         "Tremors, fast heartbeat",
         "All cities",
         "5+",
         "Yes",
         null
        ],
        [
         "21",
         "Ponstan",
         "Pfizer",
         "250mg  ",
         null,
         "Cramps, toothache",
         "Nausea, headache",
         "All cities",
         "12+",
         "Yes",
         "20.0"
        ],
        [
         "22",
         "Nuberol Forte",
         "Sami Pharma",
         "450mg + 35mg  ",
         null,
         null,
         "Drowsiness",
         "All cities",
         "18+",
         "Yes",
         "55.0"
        ],
        [
         "23",
         "Hydryllin",
         "Searle",
         "N/A  ",
         null,
         "Cough, congestion",
         "Drowsiness",
         "All cities",
         "2+",
         "No",
         "65.0"
        ],
        [
         "24",
         "Losec",
         "AstraZeneca",
         "20mg  ",
         null,
         "GERD, ulcers",
         "Constipation, headache",
         "All cities",
         "12+",
         "Yes",
         "45.0"
        ],
        [
         "25",
         "Cetamol Cold",
         "GSK",
         "500mg + 30mg  ",
         "Tablet",
         "Cold, fever, body aches",
         "Drowsiness, dry mouth",
         "All cities",
         "12+",
         "No",
         "25.0"
        ],
        [
         "26",
         "Cetirizine",
         "AGP",
         "10mg  ",
         "Tablet",
         "Allergy, sneezing",
         "Drowsiness, dizziness",
         "All cities",
         "6+",
         "No",
         "35.0"
        ],
        [
         "27",
         "Actifed",
         "GSK",
         "N/A  ",
         null,
         "Cold, runny nose, cough",
         "Drowsiness, dry mouth",
         "All cities",
         "2+",
         "No",
         "40.0"
        ],
        [
         "28",
         "Piriton",
         "GSK",
         "N/A  ",
         "Tablet",
         "Allergies, flu symptoms",
         "Drowsiness",
         "All cities",
         "1+",
         "No",
         "60.0"
        ],
        [
         "29",
         "Naproxen",
         "Bosch",
         "250mg  ",
         "Tablet",
         "Joint pain, cramps",
         "Nausea, dizziness",
         "All cities",
         "12+",
         "Yes",
         "15.0"
        ],
        [
         "30",
         "Celebrex",
         "Pfizer",
         "200mg  ",
         "Capsule",
         "Arthritis, back pain",
         "Stomach issues",
         "All cities",
         "18+",
         "Yes",
         null
        ],
        [
         "31",
         "Cefspan",
         "Searle",
         "400mg  ",
         "Tablet",
         "Throat, ear, sinus infections",
         "Diarrhea, rash",
         "All cities",
         "All ages",
         "Yes",
         null
        ],
        [
         "32",
         "Levoflox",
         "Getz",
         "500mg  ",
         "Tablet",
         "Urinary & respiratory infections",
         "Dizziness, nausea",
         "All cities",
         "16+",
         "Yes",
         null
        ],
        [
         "33",
         "Erythrocin",
         "Bosch",
         "250mg  ",
         "Tablet",
         "Skin & respiratory infections",
         "Nausea, cramps",
         "All cities",
         "All ages",
         "Yes",
         "50.0"
        ],
        [
         "34",
         "Montiget",
         "Getz Pharma",
         "10mg  ",
         "Tablet",
         "Allergy, asthma",
         "Headache, abdominal pain",
         "All cities",
         "6+",
         "Yes",
         null
        ],
        [
         "35",
         "Zyrtec",
         "UCB",
         "10mg  ",
         "Tablet",
         "Allergy, runny nose",
         "Drowsiness, dry mouth",
         "All cities",
         "6+",
         "No",
         null
        ],
        [
         "36",
         "Telfast",
         "Sanofi",
         "120mg  ",
         "Tablet",
         "Seasonal allergies",
         "Dry mouth, headache",
         "All cities",
         "12+",
         "No",
         null
        ],
        [
         "37",
         "Histac",
         "AGP",
         "10mg  ",
         "Tablet",
         "Allergy, skin rash",
         "Drowsiness",
         "All cities",
         "6+",
         "No",
         "8.0"
        ],
        [
         "38",
         "Coughnil",
         "Sami Pharma",
         "N/A  ",
         null,
         "Cough, throat irritation",
         "Drowsiness",
         "All cities",
         "2+",
         "No",
         "35.0"
        ],
        [
         "39",
         "Broxol",
         "Searle",
         "N/A  ",
         null,
         "Cough with mucus",
         "Stomach upset",
         "All cities",
         "2+",
         "No",
         "20.0"
        ],
        [
         "40",
         "Benylin",
         "Janssen",
         "N/A  ",
         null,
         "Flu, dry cough",
         "Drowsiness, dizziness",
         "All cities",
         "2+",
         "No",
         "55.0"
        ],
        [
         "41",
         "Claritek",
         "Getz Pharma",
         "500mg  ",
         "Tablet",
         "Throat, lung infections",
         "Nausea, diarrhea",
         "All cities",
         "All ages",
         "Yes",
         "65.0"
        ],
        [
         "42",
         "Ibuprofen (Children)",
         "Abbott",
         "N/A  ",
         null,
         null,
         "Stomach upset",
         "All cities",
         "0+",
         "No",
         "45.0"
        ],
        [
         "43",
         "Mucosolvan",
         "Boehringer",
         "N/A  ",
         null,
         "Chest congestion",
         "Nausea, diarrhea",
         "All cities",
         "2+",
         "No",
         "25.0"
        ],
        [
         "44",
         "Cetirizine",
         "Getz Pharma",
         "10mg  ",
         "Tablet",
         "Allergy, cold, sneezing",
         "Drowsiness, dry mouth",
         "All cities",
         "6+",
         "No",
         "35.0"
        ],
        [
         "45",
         "Montiget",
         "Getz Pharma",
         "10mg  ",
         "Tablet",
         "Allergic rhinitis, asthma",
         "Headache, abdominal pain",
         "All cities",
         "6+",
         "Yes",
         "40.0"
        ],
        [
         "46",
         "Zentel",
         "GSK",
         "400mg  ",
         "Tablet",
         "Worm infestation",
         "Abdominal pain, nausea",
         "All cities",
         "2+",
         "No",
         "60.0"
        ],
        [
         "47",
         "Erythrocin",
         "Abbot",
         "250mg  ",
         "Tablet",
         "Bacterial infection",
         "Nausea, stomach upset",
         "All cities",
         "6+",
         "Yes",
         "15.0"
        ],
        [
         "48",
         "Betnovate",
         "GSK",
         "N/A  ",
         "Cream",
         "Skin allergies, eczema",
         "Burning, thinning skin",
         "All cities",
         "All ages",
         "Yes",
         null
        ],
        [
         "49",
         "Daktarin",
         "Janssen",
         "N/A  ",
         "Cream",
         "Fungal infections",
         "Irritation, redness",
         "All cities",
         "All ages",
         "Yes",
         null
        ]
       ],
       "shape": {
        "columns": 10,
        "rows": 97
       }
      },
      "text/html": [
       "<div>\n",
       "<style scoped>\n",
       "    .dataframe tbody tr th:only-of-type {\n",
       "        vertical-align: middle;\n",
       "    }\n",
       "\n",
       "    .dataframe tbody tr th {\n",
       "        vertical-align: top;\n",
       "    }\n",
       "\n",
       "    .dataframe thead th {\n",
       "        text-align: right;\n",
       "    }\n",
       "</style>\n",
       "<table border=\"1\" class=\"dataframe\">\n",
       "  <thead>\n",
       "    <tr style=\"text-align: right;\">\n",
       "      <th></th>\n",
       "      <th>Drug Name</th>\n",
       "      <th>Manufacturer</th>\n",
       "      <th>Strength</th>\n",
       "      <th>Form</th>\n",
       "      <th>Indication</th>\n",
       "      <th>Side Effects</th>\n",
       "      <th>Available In</th>\n",
       "      <th>Age Restriction</th>\n",
       "      <th>Prescription Required</th>\n",
       "      <th>Price</th>\n",
       "    </tr>\n",
       "  </thead>\n",
       "  <tbody>\n",
       "    <tr>\n",
       "      <th>0</th>\n",
       "      <td>Panadol</td>\n",
       "      <td>GSK</td>\n",
       "      <td>500mg</td>\n",
       "      <td>Tablet</td>\n",
       "      <td>Fever, mild pain</td>\n",
       "      <td>Liver damage (high dose)</td>\n",
       "      <td>All cities</td>\n",
       "      <td>NaN</td>\n",
       "      <td>No</td>\n",
       "      <td>35.0</td>\n",
       "    </tr>\n",
       "    <tr>\n",
       "      <th>1</th>\n",
       "      <td>Arinac Forte</td>\n",
       "      <td>Abott</td>\n",
       "      <td>400mg + 60mg</td>\n",
       "      <td>Tablet</td>\n",
       "      <td>Cold, flu, fever, nasal congestion</td>\n",
       "      <td>Nausea, dizziness, dry mouth etc</td>\n",
       "      <td>All cities</td>\n",
       "      <td>12+</td>\n",
       "      <td>Yes</td>\n",
       "      <td>NaN</td>\n",
       "    </tr>\n",
       "    <tr>\n",
       "      <th>2</th>\n",
       "      <td>Arinac</td>\n",
       "      <td>Abbott</td>\n",
       "      <td>200mg + 30mg</td>\n",
       "      <td>NaN</td>\n",
       "      <td>Cold, flu, nasal congestion</td>\n",
       "      <td>Drowsiness, high BP</td>\n",
       "      <td>All cities</td>\n",
       "      <td>12+</td>\n",
       "      <td>Yes</td>\n",
       "      <td>65.0</td>\n",
       "    </tr>\n",
       "    <tr>\n",
       "      <th>3</th>\n",
       "      <td>OMC-D</td>\n",
       "      <td>Sami Pharma</td>\n",
       "      <td>20mg</td>\n",
       "      <td>Tablet</td>\n",
       "      <td>Acidity, gastric issues</td>\n",
       "      <td>Headache, diarrhea</td>\n",
       "      <td>All cities</td>\n",
       "      <td>12+</td>\n",
       "      <td>Yes</td>\n",
       "      <td>100.0</td>\n",
       "    </tr>\n",
       "    <tr>\n",
       "      <th>4</th>\n",
       "      <td>Paracetamol</td>\n",
       "      <td>Various</td>\n",
       "      <td>500mg</td>\n",
       "      <td>Tablet</td>\n",
       "      <td>Fever, pain</td>\n",
       "      <td>Liver issues (overdose)</td>\n",
       "      <td>All cities</td>\n",
       "      <td>NaN</td>\n",
       "      <td>No</td>\n",
       "      <td>30.0</td>\n",
       "    </tr>\n",
       "    <tr>\n",
       "      <th>...</th>\n",
       "      <td>...</td>\n",
       "      <td>...</td>\n",
       "      <td>...</td>\n",
       "      <td>...</td>\n",
       "      <td>...</td>\n",
       "      <td>...</td>\n",
       "      <td>...</td>\n",
       "      <td>...</td>\n",
       "      <td>...</td>\n",
       "      <td>...</td>\n",
       "    </tr>\n",
       "    <tr>\n",
       "      <th>92</th>\n",
       "      <td>Voveran Emulgel</td>\n",
       "      <td>Novartis</td>\n",
       "      <td>1.16% Diclofenac Diethylamine</td>\n",
       "      <td>Gel</td>\n",
       "      <td>Joint/muscle inflammation</td>\n",
       "      <td>Skin irritation</td>\n",
       "      <td>All cities</td>\n",
       "      <td>12+</td>\n",
       "      <td>No</td>\n",
       "      <td>120.0</td>\n",
       "    </tr>\n",
       "    <tr>\n",
       "      <th>93</th>\n",
       "      <td>Terbinafine Gel</td>\n",
       "      <td>Sami Pharma</td>\n",
       "      <td>1% Terbinafine</td>\n",
       "      <td>Gel</td>\n",
       "      <td>Skin fungal infection</td>\n",
       "      <td>Rash, dryness</td>\n",
       "      <td>All cities</td>\n",
       "      <td>12+</td>\n",
       "      <td>Yes</td>\n",
       "      <td>110.0</td>\n",
       "    </tr>\n",
       "    <tr>\n",
       "      <th>94</th>\n",
       "      <td>Aczone Gel</td>\n",
       "      <td>Ali Gohar Pharma</td>\n",
       "      <td>5% Dapsone</td>\n",
       "      <td>Gel</td>\n",
       "      <td>Acne vulgaris</td>\n",
       "      <td>Itching, burning</td>\n",
       "      <td>All cities</td>\n",
       "      <td>12+</td>\n",
       "      <td>Yes</td>\n",
       "      <td>190.0</td>\n",
       "    </tr>\n",
       "    <tr>\n",
       "      <th>95</th>\n",
       "      <td>Aloe Vera Gel</td>\n",
       "      <td>Pure Leaf</td>\n",
       "      <td>N/A</td>\n",
       "      <td>Gel</td>\n",
       "      <td>Skin moisturizing, sunburn</td>\n",
       "      <td>No major side effects</td>\n",
       "      <td>All cities</td>\n",
       "      <td>All ages</td>\n",
       "      <td>No</td>\n",
       "      <td>60.0</td>\n",
       "    </tr>\n",
       "    <tr>\n",
       "      <th>96</th>\n",
       "      <td>Candid-B Cream</td>\n",
       "      <td>Glenmark</td>\n",
       "      <td>1% Clotrimazole + 0.05% Beclomethasone</td>\n",
       "      <td>Gel (Clotrimazole + Beclomethasone)</td>\n",
       "      <td>Fungal infections &amp; inflammation</td>\n",
       "      <td>Skin thinning, irritation</td>\n",
       "      <td>All cities</td>\n",
       "      <td>12+</td>\n",
       "      <td>Yes</td>\n",
       "      <td>100.0</td>\n",
       "    </tr>\n",
       "  </tbody>\n",
       "</table>\n",
       "<p>97 rows × 10 columns</p>\n",
       "</div>"
      ],
      "text/plain": [
       "          Drug Name      Manufacturer                                Strength  \\\n",
       "0           Panadol               GSK                                 500mg     \n",
       "1      Arinac Forte             Abott                          400mg + 60mg     \n",
       "2            Arinac            Abbott                          200mg + 30mg     \n",
       "3             OMC-D       Sami Pharma                                  20mg     \n",
       "4       Paracetamol           Various                                 500mg     \n",
       "..              ...               ...                                     ...   \n",
       "92  Voveran Emulgel          Novartis         1.16% Diclofenac Diethylamine     \n",
       "93  Terbinafine Gel       Sami Pharma                        1% Terbinafine     \n",
       "94       Aczone Gel  Ali Gohar Pharma                            5% Dapsone     \n",
       "95    Aloe Vera Gel         Pure Leaf                                   N/A     \n",
       "96   Candid-B Cream          Glenmark  1% Clotrimazole + 0.05% Beclomethasone   \n",
       "\n",
       "                                   Form                          Indication  \\\n",
       "0                                Tablet                    Fever, mild pain   \n",
       "1                                Tablet  Cold, flu, fever, nasal congestion   \n",
       "2                                   NaN         Cold, flu, nasal congestion   \n",
       "3                                Tablet             Acidity, gastric issues   \n",
       "4                                Tablet                         Fever, pain   \n",
       "..                                  ...                                 ...   \n",
       "92                                  Gel           Joint/muscle inflammation   \n",
       "93                                  Gel               Skin fungal infection   \n",
       "94                                  Gel                       Acne vulgaris   \n",
       "95                                  Gel          Skin moisturizing, sunburn   \n",
       "96  Gel (Clotrimazole + Beclomethasone)    Fungal infections & inflammation   \n",
       "\n",
       "                         Side Effects Available In Age Restriction  \\\n",
       "0            Liver damage (high dose)   All cities             NaN   \n",
       "1    Nausea, dizziness, dry mouth etc   All cities             12+   \n",
       "2                 Drowsiness, high BP   All cities             12+   \n",
       "3                  Headache, diarrhea   All cities             12+   \n",
       "4             Liver issues (overdose)   All cities             NaN   \n",
       "..                                ...          ...             ...   \n",
       "92                    Skin irritation   All cities             12+   \n",
       "93                      Rash, dryness   All cities             12+   \n",
       "94                   Itching, burning   All cities             12+   \n",
       "95              No major side effects   All cities        All ages   \n",
       "96          Skin thinning, irritation   All cities             12+   \n",
       "\n",
       "   Prescription Required  Price  \n",
       "0                     No   35.0  \n",
       "1                    Yes    NaN  \n",
       "2                    Yes   65.0  \n",
       "3                    Yes  100.0  \n",
       "4                     No   30.0  \n",
       "..                   ...    ...  \n",
       "92                    No  120.0  \n",
       "93                   Yes  110.0  \n",
       "94                   Yes  190.0  \n",
       "95                    No   60.0  \n",
       "96                   Yes  100.0  \n",
       "\n",
       "[97 rows x 10 columns]"
      ]
     },
     "execution_count": 1,
     "metadata": {},
     "output_type": "execute_result"
    }
   ],
   "source": [
    "import pandas as pd\n",
    "import numpy as np\n",
    "import seaborn as sns\n",
    "df = pd.read_csv('Pakistan Medicines Dataset.csv')\n",
    "from sklearn.impute import KNNImputer,SimpleImputer\n",
    "from sklearn.preprocessing import LabelEncoder, OrdinalEncoder, OneHotEncoder, RobustScaler, MinMaxScaler, StandardScaler\n",
    "from sklearn.pipeline import Pipeline\n",
    "import plotly.express as px\n",
    "from sklearn.model_selection import train_test_split\n",
    "from sklearn.compose import ColumnTransformer\n",
    "\n",
    "import warnings\n",
    "warnings.filterwarnings('ignore')\n",
    "df"
   ]
  },
  {
   "cell_type": "code",
   "execution_count": 2,
   "id": "8c97fb1b",
   "metadata": {},
   "outputs": [
    {
     "data": {
      "application/vnd.microsoft.datawrangler.viewer.v0+json": {
       "columns": [
        {
         "name": "index",
         "rawType": "object",
         "type": "string"
        },
        {
         "name": "0",
         "rawType": "int64",
         "type": "integer"
        }
       ],
       "ref": "8b4a9de2-4908-4002-9f1d-5861e52888c9",
       "rows": [
        [
         "Form",
         "21"
        ],
        [
         "Price",
         "21"
        ],
        [
         "Age Restriction",
         "3"
        ],
        [
         "Indication",
         "2"
        ],
        [
         "Side Effects",
         "1"
        ],
        [
         "Drug Name",
         "0"
        ],
        [
         "Manufacturer",
         "0"
        ],
        [
         "Strength",
         "0"
        ],
        [
         "Available In",
         "0"
        ],
        [
         "Prescription Required",
         "0"
        ]
       ],
       "shape": {
        "columns": 1,
        "rows": 10
       }
      },
      "text/plain": [
       "Form                     21\n",
       "Price                    21\n",
       "Age Restriction           3\n",
       "Indication                2\n",
       "Side Effects              1\n",
       "Drug Name                 0\n",
       "Manufacturer              0\n",
       "Strength                  0\n",
       "Available In              0\n",
       "Prescription Required     0\n",
       "dtype: int64"
      ]
     },
     "execution_count": 2,
     "metadata": {},
     "output_type": "execute_result"
    }
   ],
   "source": [
    "df.isnull().sum().sort_values(ascending=False)"
   ]
  },
  {
   "cell_type": "code",
   "execution_count": 3,
   "id": "7c931896",
   "metadata": {},
   "outputs": [
    {
     "data": {
      "application/vnd.microsoft.datawrangler.viewer.v0+json": {
       "columns": [
        {
         "name": "index",
         "rawType": "int64",
         "type": "integer"
        },
        {
         "name": "Drug Name",
         "rawType": "object",
         "type": "string"
        },
        {
         "name": "Manufacturer",
         "rawType": "object",
         "type": "string"
        },
        {
         "name": "Strength",
         "rawType": "object",
         "type": "string"
        },
        {
         "name": "Form",
         "rawType": "object",
         "type": "unknown"
        },
        {
         "name": "Indication",
         "rawType": "object",
         "type": "unknown"
        },
        {
         "name": "Side Effects",
         "rawType": "object",
         "type": "unknown"
        },
        {
         "name": "Available In",
         "rawType": "object",
         "type": "string"
        },
        {
         "name": "Age Restriction",
         "rawType": "object",
         "type": "unknown"
        },
        {
         "name": "Prescription Required",
         "rawType": "object",
         "type": "string"
        },
        {
         "name": "Price",
         "rawType": "float64",
         "type": "float"
        }
       ],
       "ref": "9fc023e0-be1d-4510-b0de-32327cacab27",
       "rows": [
        [
         "0",
         "Panadol",
         "GSK",
         "500mg  ",
         "Tablet",
         "Fever, mild pain",
         "Liver damage (high dose)",
         "All cities",
         null,
         "No",
         "35.0"
        ],
        [
         "1",
         "Arinac Forte",
         "Abott",
         "400mg + 60mg  ",
         "Tablet",
         "Cold, flu, fever, nasal congestion",
         " Nausea, dizziness, dry mouth etc",
         "All cities",
         "12+",
         "Yes",
         "102.73684210526316"
        ],
        [
         "2",
         "Arinac",
         "Abbott",
         "200mg + 30mg  ",
         null,
         "Cold, flu, nasal congestion",
         "Drowsiness, high BP",
         "All cities",
         "12+",
         "Yes",
         "65.0"
        ],
        [
         "3",
         "OMC-D",
         "Sami Pharma",
         "20mg  ",
         "Tablet",
         "Acidity, gastric issues",
         "Headache, diarrhea",
         "All cities",
         "12+",
         "Yes",
         "100.0"
        ],
        [
         "4",
         "Paracetamol",
         "Various",
         "500mg  ",
         "Tablet",
         "Fever, pain",
         "Liver issues (overdose)",
         "All cities",
         null,
         "No",
         "30.0"
        ],
        [
         "5",
         "Calpol",
         "GSK",
         "500mg",
         "Tablet",
         "Fever and pain in children",
         "Rare skin rash",
         "All cities",
         "0+",
         "No",
         "102.73684210526316"
        ],
        [
         "6",
         "Brufen",
         "Abbott",
         "400mg  ",
         "Tablet",
         "Pain, inflammation",
         "Stomach upset",
         "All cities",
         "12+",
         "No",
         "70.0"
        ],
        [
         "7",
         "Azomax",
         "Pfizer",
         "500mg  ",
         "Tablet",
         "Infections (respiratory, skin)",
         "Diarrhea, nausea",
         "All cities",
         "12+",
         "Yes",
         "500.0"
        ],
        [
         "8",
         "Amoxil",
         "GSK",
         "500mg  ",
         "Capsule",
         "Bacterial infections",
         "Nausea, allergy",
         "All cities",
         "All ages",
         "Yes",
         "150.0"
        ],
        [
         "9",
         "Disprol",
         "Various",
         "500mg  ",
         "Tablet",
         "Fever, pain",
         "Rash, allergy",
         "All cities",
         null,
         "No",
         "40.0"
        ],
        [
         "10",
         "Augmentin",
         "GSK",
         "625mg  ",
         "Tablet",
         "Strong bacterial infections",
         "Diarrhea, nausea",
         "All cities",
         "12+",
         "Yes",
         "600.0"
        ],
        [
         "11",
         "Flagyl",
         "Pfizer",
         "400mg  ",
         "Tablet",
         "Stomach & intestinal infections",
         "Metallic taste, nausea",
         "All cities",
         "12+",
         "Yes",
         "80.0"
        ],
        [
         "12",
         "Rigix",
         "AGP",
         "10mg  ",
         null,
         "Allergy, sneezing",
         "Drowsiness",
         "All cities",
         "6+",
         "No",
         "50.0"
        ],
        [
         "13",
         "Tamsol D",
         "Himont",
         "0.4mg + 0.5mg  ",
         "Tablet",
         "Prostate enlargement",
         "Dizziness, low BP",
         "All cities",
         "18+",
         "Yes",
         "200.0"
        ],
        [
         "14",
         "Gravinate",
         "Platinum Pharma",
         "50mg  ",
         "Tablet",
         "Nausea, vomiting, motion sickness",
         "Drowsiness",
         "All cities",
         "6+",
         "No",
         "50.0"
        ],
        [
         "15",
         "Panadol Extra",
         "GSK",
         "500mg + 65mg  ",
         null,
         "Headache, fatigue pain",
         "Liver issues, jitteriness",
         "All cities",
         "12+",
         "No",
         "70.0"
        ],
        [
         "16",
         "Panadol Extend",
         "GSK",
         "665mg  ",
         null,
         "Long-lasting pain relief",
         "Liver damage (high dose)",
         "All cities",
         "12+",
         "No",
         "100.0"
        ],
        [
         "17",
         "Disprin",
         "Various",
         "300mg  ",
         null,
         "Headache, blood thinner",
         "Stomach bleeding",
         "All cities",
         "16+",
         "No",
         "30.0"
        ],
        [
         "18",
         "Risek",
         "Getz Pharma",
         "20mg  ",
         null,
         "Acidity, ulcers",
         "Headache, stomach pain",
         "All cities",
         "12+",
         "Yes",
         "100.0"
        ],
        [
         "19",
         "ORS Sachets",
         "Various",
         "N/A  ",
         "Oral Powder",
         "Dehydration",
         null,
         "All cities",
         "All ages",
         "No",
         "102.73684210526316"
        ],
        [
         "20",
         "Ventolin",
         "GSK",
         "4mg\n",
         "Inhaler",
         "Asthma, breathing issues",
         "Tremors, fast heartbeat",
         "All cities",
         "5+",
         "Yes",
         "102.73684210526316"
        ],
        [
         "21",
         "Ponstan",
         "Pfizer",
         "250mg  ",
         null,
         "Cramps, toothache",
         "Nausea, headache",
         "All cities",
         "12+",
         "Yes",
         "20.0"
        ],
        [
         "22",
         "Nuberol Forte",
         "Sami Pharma",
         "450mg + 35mg  ",
         null,
         null,
         "Drowsiness",
         "All cities",
         "18+",
         "Yes",
         "55.0"
        ],
        [
         "23",
         "Hydryllin",
         "Searle",
         "N/A  ",
         null,
         "Cough, congestion",
         "Drowsiness",
         "All cities",
         "2+",
         "No",
         "65.0"
        ],
        [
         "24",
         "Losec",
         "AstraZeneca",
         "20mg  ",
         null,
         "GERD, ulcers",
         "Constipation, headache",
         "All cities",
         "12+",
         "Yes",
         "45.0"
        ],
        [
         "25",
         "Cetamol Cold",
         "GSK",
         "500mg + 30mg  ",
         "Tablet",
         "Cold, fever, body aches",
         "Drowsiness, dry mouth",
         "All cities",
         "12+",
         "No",
         "25.0"
        ],
        [
         "26",
         "Cetirizine",
         "AGP",
         "10mg  ",
         "Tablet",
         "Allergy, sneezing",
         "Drowsiness, dizziness",
         "All cities",
         "6+",
         "No",
         "35.0"
        ],
        [
         "27",
         "Actifed",
         "GSK",
         "N/A  ",
         null,
         "Cold, runny nose, cough",
         "Drowsiness, dry mouth",
         "All cities",
         "2+",
         "No",
         "40.0"
        ],
        [
         "28",
         "Piriton",
         "GSK",
         "N/A  ",
         "Tablet",
         "Allergies, flu symptoms",
         "Drowsiness",
         "All cities",
         "1+",
         "No",
         "60.0"
        ],
        [
         "29",
         "Naproxen",
         "Bosch",
         "250mg  ",
         "Tablet",
         "Joint pain, cramps",
         "Nausea, dizziness",
         "All cities",
         "12+",
         "Yes",
         "15.0"
        ],
        [
         "30",
         "Celebrex",
         "Pfizer",
         "200mg  ",
         "Capsule",
         "Arthritis, back pain",
         "Stomach issues",
         "All cities",
         "18+",
         "Yes",
         "102.73684210526316"
        ],
        [
         "31",
         "Cefspan",
         "Searle",
         "400mg  ",
         "Tablet",
         "Throat, ear, sinus infections",
         "Diarrhea, rash",
         "All cities",
         "All ages",
         "Yes",
         "102.73684210526316"
        ],
        [
         "32",
         "Levoflox",
         "Getz",
         "500mg  ",
         "Tablet",
         "Urinary & respiratory infections",
         "Dizziness, nausea",
         "All cities",
         "16+",
         "Yes",
         "102.73684210526316"
        ],
        [
         "33",
         "Erythrocin",
         "Bosch",
         "250mg  ",
         "Tablet",
         "Skin & respiratory infections",
         "Nausea, cramps",
         "All cities",
         "All ages",
         "Yes",
         "50.0"
        ],
        [
         "34",
         "Montiget",
         "Getz Pharma",
         "10mg  ",
         "Tablet",
         "Allergy, asthma",
         "Headache, abdominal pain",
         "All cities",
         "6+",
         "Yes",
         "102.73684210526316"
        ],
        [
         "35",
         "Zyrtec",
         "UCB",
         "10mg  ",
         "Tablet",
         "Allergy, runny nose",
         "Drowsiness, dry mouth",
         "All cities",
         "6+",
         "No",
         "102.73684210526316"
        ],
        [
         "36",
         "Telfast",
         "Sanofi",
         "120mg  ",
         "Tablet",
         "Seasonal allergies",
         "Dry mouth, headache",
         "All cities",
         "12+",
         "No",
         "102.73684210526316"
        ],
        [
         "37",
         "Histac",
         "AGP",
         "10mg  ",
         "Tablet",
         "Allergy, skin rash",
         "Drowsiness",
         "All cities",
         "6+",
         "No",
         "8.0"
        ],
        [
         "38",
         "Coughnil",
         "Sami Pharma",
         "N/A  ",
         null,
         "Cough, throat irritation",
         "Drowsiness",
         "All cities",
         "2+",
         "No",
         "35.0"
        ],
        [
         "39",
         "Broxol",
         "Searle",
         "N/A  ",
         null,
         "Cough with mucus",
         "Stomach upset",
         "All cities",
         "2+",
         "No",
         "20.0"
        ],
        [
         "40",
         "Benylin",
         "Janssen",
         "N/A  ",
         null,
         "Flu, dry cough",
         "Drowsiness, dizziness",
         "All cities",
         "2+",
         "No",
         "55.0"
        ],
        [
         "41",
         "Claritek",
         "Getz Pharma",
         "500mg  ",
         "Tablet",
         "Throat, lung infections",
         "Nausea, diarrhea",
         "All cities",
         "All ages",
         "Yes",
         "65.0"
        ],
        [
         "42",
         "Ibuprofen (Children)",
         "Abbott",
         "N/A  ",
         null,
         null,
         "Stomach upset",
         "All cities",
         "0+",
         "No",
         "45.0"
        ],
        [
         "43",
         "Mucosolvan",
         "Boehringer",
         "N/A  ",
         null,
         "Chest congestion",
         "Nausea, diarrhea",
         "All cities",
         "2+",
         "No",
         "25.0"
        ],
        [
         "44",
         "Cetirizine",
         "Getz Pharma",
         "10mg  ",
         "Tablet",
         "Allergy, cold, sneezing",
         "Drowsiness, dry mouth",
         "All cities",
         "6+",
         "No",
         "35.0"
        ],
        [
         "45",
         "Montiget",
         "Getz Pharma",
         "10mg  ",
         "Tablet",
         "Allergic rhinitis, asthma",
         "Headache, abdominal pain",
         "All cities",
         "6+",
         "Yes",
         "40.0"
        ],
        [
         "46",
         "Zentel",
         "GSK",
         "400mg  ",
         "Tablet",
         "Worm infestation",
         "Abdominal pain, nausea",
         "All cities",
         "2+",
         "No",
         "60.0"
        ],
        [
         "47",
         "Erythrocin",
         "Abbot",
         "250mg  ",
         "Tablet",
         "Bacterial infection",
         "Nausea, stomach upset",
         "All cities",
         "6+",
         "Yes",
         "15.0"
        ],
        [
         "48",
         "Betnovate",
         "GSK",
         "N/A  ",
         "Cream",
         "Skin allergies, eczema",
         "Burning, thinning skin",
         "All cities",
         "All ages",
         "Yes",
         "102.73684210526316"
        ],
        [
         "49",
         "Daktarin",
         "Janssen",
         "N/A  ",
         "Cream",
         "Fungal infections",
         "Irritation, redness",
         "All cities",
         "All ages",
         "Yes",
         "102.73684210526316"
        ]
       ],
       "shape": {
        "columns": 10,
        "rows": 97
       }
      },
      "text/html": [
       "<div>\n",
       "<style scoped>\n",
       "    .dataframe tbody tr th:only-of-type {\n",
       "        vertical-align: middle;\n",
       "    }\n",
       "\n",
       "    .dataframe tbody tr th {\n",
       "        vertical-align: top;\n",
       "    }\n",
       "\n",
       "    .dataframe thead th {\n",
       "        text-align: right;\n",
       "    }\n",
       "</style>\n",
       "<table border=\"1\" class=\"dataframe\">\n",
       "  <thead>\n",
       "    <tr style=\"text-align: right;\">\n",
       "      <th></th>\n",
       "      <th>Drug Name</th>\n",
       "      <th>Manufacturer</th>\n",
       "      <th>Strength</th>\n",
       "      <th>Form</th>\n",
       "      <th>Indication</th>\n",
       "      <th>Side Effects</th>\n",
       "      <th>Available In</th>\n",
       "      <th>Age Restriction</th>\n",
       "      <th>Prescription Required</th>\n",
       "      <th>Price</th>\n",
       "    </tr>\n",
       "  </thead>\n",
       "  <tbody>\n",
       "    <tr>\n",
       "      <th>0</th>\n",
       "      <td>Panadol</td>\n",
       "      <td>GSK</td>\n",
       "      <td>500mg</td>\n",
       "      <td>Tablet</td>\n",
       "      <td>Fever, mild pain</td>\n",
       "      <td>Liver damage (high dose)</td>\n",
       "      <td>All cities</td>\n",
       "      <td>NaN</td>\n",
       "      <td>No</td>\n",
       "      <td>35.000000</td>\n",
       "    </tr>\n",
       "    <tr>\n",
       "      <th>1</th>\n",
       "      <td>Arinac Forte</td>\n",
       "      <td>Abott</td>\n",
       "      <td>400mg + 60mg</td>\n",
       "      <td>Tablet</td>\n",
       "      <td>Cold, flu, fever, nasal congestion</td>\n",
       "      <td>Nausea, dizziness, dry mouth etc</td>\n",
       "      <td>All cities</td>\n",
       "      <td>12+</td>\n",
       "      <td>Yes</td>\n",
       "      <td>102.736842</td>\n",
       "    </tr>\n",
       "    <tr>\n",
       "      <th>2</th>\n",
       "      <td>Arinac</td>\n",
       "      <td>Abbott</td>\n",
       "      <td>200mg + 30mg</td>\n",
       "      <td>NaN</td>\n",
       "      <td>Cold, flu, nasal congestion</td>\n",
       "      <td>Drowsiness, high BP</td>\n",
       "      <td>All cities</td>\n",
       "      <td>12+</td>\n",
       "      <td>Yes</td>\n",
       "      <td>65.000000</td>\n",
       "    </tr>\n",
       "    <tr>\n",
       "      <th>3</th>\n",
       "      <td>OMC-D</td>\n",
       "      <td>Sami Pharma</td>\n",
       "      <td>20mg</td>\n",
       "      <td>Tablet</td>\n",
       "      <td>Acidity, gastric issues</td>\n",
       "      <td>Headache, diarrhea</td>\n",
       "      <td>All cities</td>\n",
       "      <td>12+</td>\n",
       "      <td>Yes</td>\n",
       "      <td>100.000000</td>\n",
       "    </tr>\n",
       "    <tr>\n",
       "      <th>4</th>\n",
       "      <td>Paracetamol</td>\n",
       "      <td>Various</td>\n",
       "      <td>500mg</td>\n",
       "      <td>Tablet</td>\n",
       "      <td>Fever, pain</td>\n",
       "      <td>Liver issues (overdose)</td>\n",
       "      <td>All cities</td>\n",
       "      <td>NaN</td>\n",
       "      <td>No</td>\n",
       "      <td>30.000000</td>\n",
       "    </tr>\n",
       "    <tr>\n",
       "      <th>...</th>\n",
       "      <td>...</td>\n",
       "      <td>...</td>\n",
       "      <td>...</td>\n",
       "      <td>...</td>\n",
       "      <td>...</td>\n",
       "      <td>...</td>\n",
       "      <td>...</td>\n",
       "      <td>...</td>\n",
       "      <td>...</td>\n",
       "      <td>...</td>\n",
       "    </tr>\n",
       "    <tr>\n",
       "      <th>92</th>\n",
       "      <td>Voveran Emulgel</td>\n",
       "      <td>Novartis</td>\n",
       "      <td>1.16% Diclofenac Diethylamine</td>\n",
       "      <td>Gel</td>\n",
       "      <td>Joint/muscle inflammation</td>\n",
       "      <td>Skin irritation</td>\n",
       "      <td>All cities</td>\n",
       "      <td>12+</td>\n",
       "      <td>No</td>\n",
       "      <td>120.000000</td>\n",
       "    </tr>\n",
       "    <tr>\n",
       "      <th>93</th>\n",
       "      <td>Terbinafine Gel</td>\n",
       "      <td>Sami Pharma</td>\n",
       "      <td>1% Terbinafine</td>\n",
       "      <td>Gel</td>\n",
       "      <td>Skin fungal infection</td>\n",
       "      <td>Rash, dryness</td>\n",
       "      <td>All cities</td>\n",
       "      <td>12+</td>\n",
       "      <td>Yes</td>\n",
       "      <td>110.000000</td>\n",
       "    </tr>\n",
       "    <tr>\n",
       "      <th>94</th>\n",
       "      <td>Aczone Gel</td>\n",
       "      <td>Ali Gohar Pharma</td>\n",
       "      <td>5% Dapsone</td>\n",
       "      <td>Gel</td>\n",
       "      <td>Acne vulgaris</td>\n",
       "      <td>Itching, burning</td>\n",
       "      <td>All cities</td>\n",
       "      <td>12+</td>\n",
       "      <td>Yes</td>\n",
       "      <td>190.000000</td>\n",
       "    </tr>\n",
       "    <tr>\n",
       "      <th>95</th>\n",
       "      <td>Aloe Vera Gel</td>\n",
       "      <td>Pure Leaf</td>\n",
       "      <td>N/A</td>\n",
       "      <td>Gel</td>\n",
       "      <td>Skin moisturizing, sunburn</td>\n",
       "      <td>No major side effects</td>\n",
       "      <td>All cities</td>\n",
       "      <td>All ages</td>\n",
       "      <td>No</td>\n",
       "      <td>60.000000</td>\n",
       "    </tr>\n",
       "    <tr>\n",
       "      <th>96</th>\n",
       "      <td>Candid-B Cream</td>\n",
       "      <td>Glenmark</td>\n",
       "      <td>1% Clotrimazole + 0.05% Beclomethasone</td>\n",
       "      <td>Gel (Clotrimazole + Beclomethasone)</td>\n",
       "      <td>Fungal infections &amp; inflammation</td>\n",
       "      <td>Skin thinning, irritation</td>\n",
       "      <td>All cities</td>\n",
       "      <td>12+</td>\n",
       "      <td>Yes</td>\n",
       "      <td>100.000000</td>\n",
       "    </tr>\n",
       "  </tbody>\n",
       "</table>\n",
       "<p>97 rows × 10 columns</p>\n",
       "</div>"
      ],
      "text/plain": [
       "          Drug Name      Manufacturer                                Strength  \\\n",
       "0           Panadol               GSK                                 500mg     \n",
       "1      Arinac Forte             Abott                          400mg + 60mg     \n",
       "2            Arinac            Abbott                          200mg + 30mg     \n",
       "3             OMC-D       Sami Pharma                                  20mg     \n",
       "4       Paracetamol           Various                                 500mg     \n",
       "..              ...               ...                                     ...   \n",
       "92  Voveran Emulgel          Novartis         1.16% Diclofenac Diethylamine     \n",
       "93  Terbinafine Gel       Sami Pharma                        1% Terbinafine     \n",
       "94       Aczone Gel  Ali Gohar Pharma                            5% Dapsone     \n",
       "95    Aloe Vera Gel         Pure Leaf                                   N/A     \n",
       "96   Candid-B Cream          Glenmark  1% Clotrimazole + 0.05% Beclomethasone   \n",
       "\n",
       "                                   Form                          Indication  \\\n",
       "0                                Tablet                    Fever, mild pain   \n",
       "1                                Tablet  Cold, flu, fever, nasal congestion   \n",
       "2                                   NaN         Cold, flu, nasal congestion   \n",
       "3                                Tablet             Acidity, gastric issues   \n",
       "4                                Tablet                         Fever, pain   \n",
       "..                                  ...                                 ...   \n",
       "92                                  Gel           Joint/muscle inflammation   \n",
       "93                                  Gel               Skin fungal infection   \n",
       "94                                  Gel                       Acne vulgaris   \n",
       "95                                  Gel          Skin moisturizing, sunburn   \n",
       "96  Gel (Clotrimazole + Beclomethasone)    Fungal infections & inflammation   \n",
       "\n",
       "                         Side Effects Available In Age Restriction  \\\n",
       "0            Liver damage (high dose)   All cities             NaN   \n",
       "1    Nausea, dizziness, dry mouth etc   All cities             12+   \n",
       "2                 Drowsiness, high BP   All cities             12+   \n",
       "3                  Headache, diarrhea   All cities             12+   \n",
       "4             Liver issues (overdose)   All cities             NaN   \n",
       "..                                ...          ...             ...   \n",
       "92                    Skin irritation   All cities             12+   \n",
       "93                      Rash, dryness   All cities             12+   \n",
       "94                   Itching, burning   All cities             12+   \n",
       "95              No major side effects   All cities        All ages   \n",
       "96          Skin thinning, irritation   All cities             12+   \n",
       "\n",
       "   Prescription Required       Price  \n",
       "0                     No   35.000000  \n",
       "1                    Yes  102.736842  \n",
       "2                    Yes   65.000000  \n",
       "3                    Yes  100.000000  \n",
       "4                     No   30.000000  \n",
       "..                   ...         ...  \n",
       "92                    No  120.000000  \n",
       "93                   Yes  110.000000  \n",
       "94                   Yes  190.000000  \n",
       "95                    No   60.000000  \n",
       "96                   Yes  100.000000  \n",
       "\n",
       "[97 rows x 10 columns]"
      ]
     },
     "execution_count": 3,
     "metadata": {},
     "output_type": "execute_result"
    }
   ],
   "source": [
    "knn=KNNImputer()\n",
    "df['Price']=knn.fit_transform(df[['Price']])\n",
    "df"
   ]
  },
  {
   "cell_type": "code",
   "execution_count": 4,
   "id": "f6d6df6c",
   "metadata": {},
   "outputs": [
    {
     "data": {
      "text/plain": [
       "Index(['Price'], dtype='object')"
      ]
     },
     "execution_count": 4,
     "metadata": {},
     "output_type": "execute_result"
    }
   ],
   "source": [
    "df.select_dtypes(include=['float','int']).columns"
   ]
  },
  {
   "cell_type": "code",
   "execution_count": 5,
   "id": "4996597c",
   "metadata": {},
   "outputs": [
    {
     "data": {
      "text/plain": [
       "Index(['Drug Name', 'Manufacturer', 'Strength', 'Form', 'Indication',\n",
       "       'Side Effects', 'Available In', 'Age Restriction',\n",
       "       'Prescription Required'],\n",
       "      dtype='object')"
      ]
     },
     "execution_count": 5,
     "metadata": {},
     "output_type": "execute_result"
    }
   ],
   "source": [
    "df.select_dtypes(include=['object','category']).columns"
   ]
  },
  {
   "cell_type": "code",
   "execution_count": 6,
   "id": "328cc6a0",
   "metadata": {},
   "outputs": [
    {
     "data": {
      "application/vnd.plotly.v1+json": {
       "config": {
        "plotlyServerURL": "https://plot.ly"
       },
       "data": [
        {
         "alignmentgroup": "True",
         "hovertemplate": "Price=%{x}<extra></extra>",
         "legendgroup": "",
         "marker": {
          "color": "#636efa"
         },
         "name": "",
         "notched": false,
         "offsetgroup": "",
         "orientation": "h",
         "showlegend": false,
         "type": "box",
         "x": {
          "bdata": "AAAAAACAQUDzGsprKK9ZQAAAAAAAQFBAAAAAAAAAWUAAAAAAAAA+QPMaymsor1lAAAAAAACAUUAAAAAAAEB/QAAAAAAAwGJAAAAAAAAAREAAAAAAAMCCQAAAAAAAAFRAAAAAAAAASUAAAAAAAABpQAAAAAAAAElAAAAAAACAUUAAAAAAAABZQAAAAAAAAD5AAAAAAAAAWUDzGsprKK9ZQPMaymsor1lAAAAAAAAANEAAAAAAAIBLQAAAAAAAQFBAAAAAAACARkAAAAAAAAA5QAAAAAAAgEFAAAAAAAAAREAAAAAAAABOQAAAAAAAAC5A8xrKayivWUDzGsprKK9ZQPMaymsor1lAAAAAAAAASUDzGsprKK9ZQPMaymsor1lA8xrKayivWUAAAAAAAAAgQAAAAAAAgEFAAAAAAAAANEAAAAAAAIBLQAAAAAAAQFBAAAAAAACARkAAAAAAAAA5QAAAAAAAgEFAAAAAAAAAREAAAAAAAABOQAAAAAAAAC5A8xrKayivWUDzGsprKK9ZQPMaymsor1lA8xrKayivWUDzGsprKK9ZQPMaymsor1lA8xrKayivWUDzGsprKK9ZQPMaymsor1lA8xrKayivWUDzGsprKK9ZQAAAAAAAgFZAAAAAAAAAVEAAAAAAAEBVQAAAAAAAAFlAAAAAAACAVkAAAAAAAIBRQAAAAAAAgFtAAAAAAADAV0AAAAAAAIBWQAAAAAAAQFVAAAAAAADAYkAAAAAAAMBSQAAAAAAAwFdAAAAAAAAAWUAAAAAAAIBbQAAAAAAAwFdAAAAAAABAX0AAAAAAAIBhQAAAAAAAQGBAAAAAAABAb0AAAAAAAIBmQAAAAAAAQGVAAAAAAAAAZEAAAAAAAABeQAAAAAAAgFtAAAAAAADAZ0AAAAAAAABOQAAAAAAAAFlAAAAAAABAYEAAAAAAAEBvQAAAAAAAgGZAAAAAAABAZUAAAAAAAABkQAAAAAAAAF5AAAAAAACAW0AAAAAAAMBnQAAAAAAAAE5AAAAAAAAAWUA=",
          "dtype": "f8"
         },
         "x0": " ",
         "xaxis": "x",
         "y0": " ",
         "yaxis": "y"
        }
       ],
       "layout": {
        "boxmode": "group",
        "legend": {
         "tracegroupgap": 0
        },
        "margin": {
         "t": 60
        },
        "template": {
         "data": {
          "bar": [
           {
            "error_x": {
             "color": "#2a3f5f"
            },
            "error_y": {
             "color": "#2a3f5f"
            },
            "marker": {
             "line": {
              "color": "#E5ECF6",
              "width": 0.5
             },
             "pattern": {
              "fillmode": "overlay",
              "size": 10,
              "solidity": 0.2
             }
            },
            "type": "bar"
           }
          ],
          "barpolar": [
           {
            "marker": {
             "line": {
              "color": "#E5ECF6",
              "width": 0.5
             },
             "pattern": {
              "fillmode": "overlay",
              "size": 10,
              "solidity": 0.2
             }
            },
            "type": "barpolar"
           }
          ],
          "carpet": [
           {
            "aaxis": {
             "endlinecolor": "#2a3f5f",
             "gridcolor": "white",
             "linecolor": "white",
             "minorgridcolor": "white",
             "startlinecolor": "#2a3f5f"
            },
            "baxis": {
             "endlinecolor": "#2a3f5f",
             "gridcolor": "white",
             "linecolor": "white",
             "minorgridcolor": "white",
             "startlinecolor": "#2a3f5f"
            },
            "type": "carpet"
           }
          ],
          "choropleth": [
           {
            "colorbar": {
             "outlinewidth": 0,
             "ticks": ""
            },
            "type": "choropleth"
           }
          ],
          "contour": [
           {
            "colorbar": {
             "outlinewidth": 0,
             "ticks": ""
            },
            "colorscale": [
             [
              0,
              "#0d0887"
             ],
             [
              0.1111111111111111,
              "#46039f"
             ],
             [
              0.2222222222222222,
              "#7201a8"
             ],
             [
              0.3333333333333333,
              "#9c179e"
             ],
             [
              0.4444444444444444,
              "#bd3786"
             ],
             [
              0.5555555555555556,
              "#d8576b"
             ],
             [
              0.6666666666666666,
              "#ed7953"
             ],
             [
              0.7777777777777778,
              "#fb9f3a"
             ],
             [
              0.8888888888888888,
              "#fdca26"
             ],
             [
              1,
              "#f0f921"
             ]
            ],
            "type": "contour"
           }
          ],
          "contourcarpet": [
           {
            "colorbar": {
             "outlinewidth": 0,
             "ticks": ""
            },
            "type": "contourcarpet"
           }
          ],
          "heatmap": [
           {
            "colorbar": {
             "outlinewidth": 0,
             "ticks": ""
            },
            "colorscale": [
             [
              0,
              "#0d0887"
             ],
             [
              0.1111111111111111,
              "#46039f"
             ],
             [
              0.2222222222222222,
              "#7201a8"
             ],
             [
              0.3333333333333333,
              "#9c179e"
             ],
             [
              0.4444444444444444,
              "#bd3786"
             ],
             [
              0.5555555555555556,
              "#d8576b"
             ],
             [
              0.6666666666666666,
              "#ed7953"
             ],
             [
              0.7777777777777778,
              "#fb9f3a"
             ],
             [
              0.8888888888888888,
              "#fdca26"
             ],
             [
              1,
              "#f0f921"
             ]
            ],
            "type": "heatmap"
           }
          ],
          "histogram": [
           {
            "marker": {
             "pattern": {
              "fillmode": "overlay",
              "size": 10,
              "solidity": 0.2
             }
            },
            "type": "histogram"
           }
          ],
          "histogram2d": [
           {
            "colorbar": {
             "outlinewidth": 0,
             "ticks": ""
            },
            "colorscale": [
             [
              0,
              "#0d0887"
             ],
             [
              0.1111111111111111,
              "#46039f"
             ],
             [
              0.2222222222222222,
              "#7201a8"
             ],
             [
              0.3333333333333333,
              "#9c179e"
             ],
             [
              0.4444444444444444,
              "#bd3786"
             ],
             [
              0.5555555555555556,
              "#d8576b"
             ],
             [
              0.6666666666666666,
              "#ed7953"
             ],
             [
              0.7777777777777778,
              "#fb9f3a"
             ],
             [
              0.8888888888888888,
              "#fdca26"
             ],
             [
              1,
              "#f0f921"
             ]
            ],
            "type": "histogram2d"
           }
          ],
          "histogram2dcontour": [
           {
            "colorbar": {
             "outlinewidth": 0,
             "ticks": ""
            },
            "colorscale": [
             [
              0,
              "#0d0887"
             ],
             [
              0.1111111111111111,
              "#46039f"
             ],
             [
              0.2222222222222222,
              "#7201a8"
             ],
             [
              0.3333333333333333,
              "#9c179e"
             ],
             [
              0.4444444444444444,
              "#bd3786"
             ],
             [
              0.5555555555555556,
              "#d8576b"
             ],
             [
              0.6666666666666666,
              "#ed7953"
             ],
             [
              0.7777777777777778,
              "#fb9f3a"
             ],
             [
              0.8888888888888888,
              "#fdca26"
             ],
             [
              1,
              "#f0f921"
             ]
            ],
            "type": "histogram2dcontour"
           }
          ],
          "mesh3d": [
           {
            "colorbar": {
             "outlinewidth": 0,
             "ticks": ""
            },
            "type": "mesh3d"
           }
          ],
          "parcoords": [
           {
            "line": {
             "colorbar": {
              "outlinewidth": 0,
              "ticks": ""
             }
            },
            "type": "parcoords"
           }
          ],
          "pie": [
           {
            "automargin": true,
            "type": "pie"
           }
          ],
          "scatter": [
           {
            "fillpattern": {
             "fillmode": "overlay",
             "size": 10,
             "solidity": 0.2
            },
            "type": "scatter"
           }
          ],
          "scatter3d": [
           {
            "line": {
             "colorbar": {
              "outlinewidth": 0,
              "ticks": ""
             }
            },
            "marker": {
             "colorbar": {
              "outlinewidth": 0,
              "ticks": ""
             }
            },
            "type": "scatter3d"
           }
          ],
          "scattercarpet": [
           {
            "marker": {
             "colorbar": {
              "outlinewidth": 0,
              "ticks": ""
             }
            },
            "type": "scattercarpet"
           }
          ],
          "scattergeo": [
           {
            "marker": {
             "colorbar": {
              "outlinewidth": 0,
              "ticks": ""
             }
            },
            "type": "scattergeo"
           }
          ],
          "scattergl": [
           {
            "marker": {
             "colorbar": {
              "outlinewidth": 0,
              "ticks": ""
             }
            },
            "type": "scattergl"
           }
          ],
          "scattermap": [
           {
            "marker": {
             "colorbar": {
              "outlinewidth": 0,
              "ticks": ""
             }
            },
            "type": "scattermap"
           }
          ],
          "scattermapbox": [
           {
            "marker": {
             "colorbar": {
              "outlinewidth": 0,
              "ticks": ""
             }
            },
            "type": "scattermapbox"
           }
          ],
          "scatterpolar": [
           {
            "marker": {
             "colorbar": {
              "outlinewidth": 0,
              "ticks": ""
             }
            },
            "type": "scatterpolar"
           }
          ],
          "scatterpolargl": [
           {
            "marker": {
             "colorbar": {
              "outlinewidth": 0,
              "ticks": ""
             }
            },
            "type": "scatterpolargl"
           }
          ],
          "scatterternary": [
           {
            "marker": {
             "colorbar": {
              "outlinewidth": 0,
              "ticks": ""
             }
            },
            "type": "scatterternary"
           }
          ],
          "surface": [
           {
            "colorbar": {
             "outlinewidth": 0,
             "ticks": ""
            },
            "colorscale": [
             [
              0,
              "#0d0887"
             ],
             [
              0.1111111111111111,
              "#46039f"
             ],
             [
              0.2222222222222222,
              "#7201a8"
             ],
             [
              0.3333333333333333,
              "#9c179e"
             ],
             [
              0.4444444444444444,
              "#bd3786"
             ],
             [
              0.5555555555555556,
              "#d8576b"
             ],
             [
              0.6666666666666666,
              "#ed7953"
             ],
             [
              0.7777777777777778,
              "#fb9f3a"
             ],
             [
              0.8888888888888888,
              "#fdca26"
             ],
             [
              1,
              "#f0f921"
             ]
            ],
            "type": "surface"
           }
          ],
          "table": [
           {
            "cells": {
             "fill": {
              "color": "#EBF0F8"
             },
             "line": {
              "color": "white"
             }
            },
            "header": {
             "fill": {
              "color": "#C8D4E3"
             },
             "line": {
              "color": "white"
             }
            },
            "type": "table"
           }
          ]
         },
         "layout": {
          "annotationdefaults": {
           "arrowcolor": "#2a3f5f",
           "arrowhead": 0,
           "arrowwidth": 1
          },
          "autotypenumbers": "strict",
          "coloraxis": {
           "colorbar": {
            "outlinewidth": 0,
            "ticks": ""
           }
          },
          "colorscale": {
           "diverging": [
            [
             0,
             "#8e0152"
            ],
            [
             0.1,
             "#c51b7d"
            ],
            [
             0.2,
             "#de77ae"
            ],
            [
             0.3,
             "#f1b6da"
            ],
            [
             0.4,
             "#fde0ef"
            ],
            [
             0.5,
             "#f7f7f7"
            ],
            [
             0.6,
             "#e6f5d0"
            ],
            [
             0.7,
             "#b8e186"
            ],
            [
             0.8,
             "#7fbc41"
            ],
            [
             0.9,
             "#4d9221"
            ],
            [
             1,
             "#276419"
            ]
           ],
           "sequential": [
            [
             0,
             "#0d0887"
            ],
            [
             0.1111111111111111,
             "#46039f"
            ],
            [
             0.2222222222222222,
             "#7201a8"
            ],
            [
             0.3333333333333333,
             "#9c179e"
            ],
            [
             0.4444444444444444,
             "#bd3786"
            ],
            [
             0.5555555555555556,
             "#d8576b"
            ],
            [
             0.6666666666666666,
             "#ed7953"
            ],
            [
             0.7777777777777778,
             "#fb9f3a"
            ],
            [
             0.8888888888888888,
             "#fdca26"
            ],
            [
             1,
             "#f0f921"
            ]
           ],
           "sequentialminus": [
            [
             0,
             "#0d0887"
            ],
            [
             0.1111111111111111,
             "#46039f"
            ],
            [
             0.2222222222222222,
             "#7201a8"
            ],
            [
             0.3333333333333333,
             "#9c179e"
            ],
            [
             0.4444444444444444,
             "#bd3786"
            ],
            [
             0.5555555555555556,
             "#d8576b"
            ],
            [
             0.6666666666666666,
             "#ed7953"
            ],
            [
             0.7777777777777778,
             "#fb9f3a"
            ],
            [
             0.8888888888888888,
             "#fdca26"
            ],
            [
             1,
             "#f0f921"
            ]
           ]
          },
          "colorway": [
           "#636efa",
           "#EF553B",
           "#00cc96",
           "#ab63fa",
           "#FFA15A",
           "#19d3f3",
           "#FF6692",
           "#B6E880",
           "#FF97FF",
           "#FECB52"
          ],
          "font": {
           "color": "#2a3f5f"
          },
          "geo": {
           "bgcolor": "white",
           "lakecolor": "white",
           "landcolor": "#E5ECF6",
           "showlakes": true,
           "showland": true,
           "subunitcolor": "white"
          },
          "hoverlabel": {
           "align": "left"
          },
          "hovermode": "closest",
          "mapbox": {
           "style": "light"
          },
          "paper_bgcolor": "white",
          "plot_bgcolor": "#E5ECF6",
          "polar": {
           "angularaxis": {
            "gridcolor": "white",
            "linecolor": "white",
            "ticks": ""
           },
           "bgcolor": "#E5ECF6",
           "radialaxis": {
            "gridcolor": "white",
            "linecolor": "white",
            "ticks": ""
           }
          },
          "scene": {
           "xaxis": {
            "backgroundcolor": "#E5ECF6",
            "gridcolor": "white",
            "gridwidth": 2,
            "linecolor": "white",
            "showbackground": true,
            "ticks": "",
            "zerolinecolor": "white"
           },
           "yaxis": {
            "backgroundcolor": "#E5ECF6",
            "gridcolor": "white",
            "gridwidth": 2,
            "linecolor": "white",
            "showbackground": true,
            "ticks": "",
            "zerolinecolor": "white"
           },
           "zaxis": {
            "backgroundcolor": "#E5ECF6",
            "gridcolor": "white",
            "gridwidth": 2,
            "linecolor": "white",
            "showbackground": true,
            "ticks": "",
            "zerolinecolor": "white"
           }
          },
          "shapedefaults": {
           "line": {
            "color": "#2a3f5f"
           }
          },
          "ternary": {
           "aaxis": {
            "gridcolor": "white",
            "linecolor": "white",
            "ticks": ""
           },
           "baxis": {
            "gridcolor": "white",
            "linecolor": "white",
            "ticks": ""
           },
           "bgcolor": "#E5ECF6",
           "caxis": {
            "gridcolor": "white",
            "linecolor": "white",
            "ticks": ""
           }
          },
          "title": {
           "x": 0.05
          },
          "xaxis": {
           "automargin": true,
           "gridcolor": "white",
           "linecolor": "white",
           "ticks": "",
           "title": {
            "standoff": 15
           },
           "zerolinecolor": "white",
           "zerolinewidth": 2
          },
          "yaxis": {
           "automargin": true,
           "gridcolor": "white",
           "linecolor": "white",
           "ticks": "",
           "title": {
            "standoff": 15
           },
           "zerolinecolor": "white",
           "zerolinewidth": 2
          }
         }
        },
        "xaxis": {
         "anchor": "y",
         "domain": [
          0,
          1
         ],
         "title": {
          "text": "Price"
         }
        },
        "yaxis": {
         "anchor": "x",
         "domain": [
          0,
          1
         ]
        }
       }
      }
     },
     "metadata": {},
     "output_type": "display_data"
    }
   ],
   "source": [
    "fig=px.box(df,x='Price')\n",
    "fig.show()"
   ]
  },
  {
   "cell_type": "code",
   "execution_count": 7,
   "id": "dbd09ac1",
   "metadata": {},
   "outputs": [
    {
     "data": {
      "application/vnd.plotly.v1+json": {
       "config": {
        "plotlyServerURL": "https://plot.ly"
       },
       "data": [
        {
         "alignmentgroup": "True",
         "box": {
          "visible": false
         },
         "hovertemplate": "Price=%{x}<extra></extra>",
         "legendgroup": "",
         "marker": {
          "color": "#636efa"
         },
         "name": "",
         "offsetgroup": "",
         "orientation": "h",
         "scalegroup": "True",
         "showlegend": false,
         "type": "violin",
         "x": {
          "bdata": "AAAAAACAQUDzGsprKK9ZQAAAAAAAQFBAAAAAAAAAWUAAAAAAAAA+QPMaymsor1lAAAAAAACAUUAAAAAAAEB/QAAAAAAAwGJAAAAAAAAAREAAAAAAAMCCQAAAAAAAAFRAAAAAAAAASUAAAAAAAABpQAAAAAAAAElAAAAAAACAUUAAAAAAAABZQAAAAAAAAD5AAAAAAAAAWUDzGsprKK9ZQPMaymsor1lAAAAAAAAANEAAAAAAAIBLQAAAAAAAQFBAAAAAAACARkAAAAAAAAA5QAAAAAAAgEFAAAAAAAAAREAAAAAAAABOQAAAAAAAAC5A8xrKayivWUDzGsprKK9ZQPMaymsor1lAAAAAAAAASUDzGsprKK9ZQPMaymsor1lA8xrKayivWUAAAAAAAAAgQAAAAAAAgEFAAAAAAAAANEAAAAAAAIBLQAAAAAAAQFBAAAAAAACARkAAAAAAAAA5QAAAAAAAgEFAAAAAAAAAREAAAAAAAABOQAAAAAAAAC5A8xrKayivWUDzGsprKK9ZQPMaymsor1lA8xrKayivWUDzGsprKK9ZQPMaymsor1lA8xrKayivWUDzGsprKK9ZQPMaymsor1lA8xrKayivWUDzGsprKK9ZQAAAAAAAgFZAAAAAAAAAVEAAAAAAAEBVQAAAAAAAAFlAAAAAAACAVkAAAAAAAIBRQAAAAAAAgFtAAAAAAADAV0AAAAAAAIBWQAAAAAAAQFVAAAAAAADAYkAAAAAAAMBSQAAAAAAAwFdAAAAAAAAAWUAAAAAAAIBbQAAAAAAAwFdAAAAAAABAX0AAAAAAAIBhQAAAAAAAQGBAAAAAAABAb0AAAAAAAIBmQAAAAAAAQGVAAAAAAAAAZEAAAAAAAABeQAAAAAAAgFtAAAAAAADAZ0AAAAAAAABOQAAAAAAAAFlAAAAAAABAYEAAAAAAAEBvQAAAAAAAgGZAAAAAAABAZUAAAAAAAABkQAAAAAAAAF5AAAAAAACAW0AAAAAAAMBnQAAAAAAAAE5AAAAAAAAAWUA=",
          "dtype": "f8"
         },
         "x0": " ",
         "xaxis": "x",
         "y0": " ",
         "yaxis": "y"
        }
       ],
       "layout": {
        "legend": {
         "tracegroupgap": 0
        },
        "margin": {
         "t": 60
        },
        "template": {
         "data": {
          "bar": [
           {
            "error_x": {
             "color": "#2a3f5f"
            },
            "error_y": {
             "color": "#2a3f5f"
            },
            "marker": {
             "line": {
              "color": "#E5ECF6",
              "width": 0.5
             },
             "pattern": {
              "fillmode": "overlay",
              "size": 10,
              "solidity": 0.2
             }
            },
            "type": "bar"
           }
          ],
          "barpolar": [
           {
            "marker": {
             "line": {
              "color": "#E5ECF6",
              "width": 0.5
             },
             "pattern": {
              "fillmode": "overlay",
              "size": 10,
              "solidity": 0.2
             }
            },
            "type": "barpolar"
           }
          ],
          "carpet": [
           {
            "aaxis": {
             "endlinecolor": "#2a3f5f",
             "gridcolor": "white",
             "linecolor": "white",
             "minorgridcolor": "white",
             "startlinecolor": "#2a3f5f"
            },
            "baxis": {
             "endlinecolor": "#2a3f5f",
             "gridcolor": "white",
             "linecolor": "white",
             "minorgridcolor": "white",
             "startlinecolor": "#2a3f5f"
            },
            "type": "carpet"
           }
          ],
          "choropleth": [
           {
            "colorbar": {
             "outlinewidth": 0,
             "ticks": ""
            },
            "type": "choropleth"
           }
          ],
          "contour": [
           {
            "colorbar": {
             "outlinewidth": 0,
             "ticks": ""
            },
            "colorscale": [
             [
              0,
              "#0d0887"
             ],
             [
              0.1111111111111111,
              "#46039f"
             ],
             [
              0.2222222222222222,
              "#7201a8"
             ],
             [
              0.3333333333333333,
              "#9c179e"
             ],
             [
              0.4444444444444444,
              "#bd3786"
             ],
             [
              0.5555555555555556,
              "#d8576b"
             ],
             [
              0.6666666666666666,
              "#ed7953"
             ],
             [
              0.7777777777777778,
              "#fb9f3a"
             ],
             [
              0.8888888888888888,
              "#fdca26"
             ],
             [
              1,
              "#f0f921"
             ]
            ],
            "type": "contour"
           }
          ],
          "contourcarpet": [
           {
            "colorbar": {
             "outlinewidth": 0,
             "ticks": ""
            },
            "type": "contourcarpet"
           }
          ],
          "heatmap": [
           {
            "colorbar": {
             "outlinewidth": 0,
             "ticks": ""
            },
            "colorscale": [
             [
              0,
              "#0d0887"
             ],
             [
              0.1111111111111111,
              "#46039f"
             ],
             [
              0.2222222222222222,
              "#7201a8"
             ],
             [
              0.3333333333333333,
              "#9c179e"
             ],
             [
              0.4444444444444444,
              "#bd3786"
             ],
             [
              0.5555555555555556,
              "#d8576b"
             ],
             [
              0.6666666666666666,
              "#ed7953"
             ],
             [
              0.7777777777777778,
              "#fb9f3a"
             ],
             [
              0.8888888888888888,
              "#fdca26"
             ],
             [
              1,
              "#f0f921"
             ]
            ],
            "type": "heatmap"
           }
          ],
          "histogram": [
           {
            "marker": {
             "pattern": {
              "fillmode": "overlay",
              "size": 10,
              "solidity": 0.2
             }
            },
            "type": "histogram"
           }
          ],
          "histogram2d": [
           {
            "colorbar": {
             "outlinewidth": 0,
             "ticks": ""
            },
            "colorscale": [
             [
              0,
              "#0d0887"
             ],
             [
              0.1111111111111111,
              "#46039f"
             ],
             [
              0.2222222222222222,
              "#7201a8"
             ],
             [
              0.3333333333333333,
              "#9c179e"
             ],
             [
              0.4444444444444444,
              "#bd3786"
             ],
             [
              0.5555555555555556,
              "#d8576b"
             ],
             [
              0.6666666666666666,
              "#ed7953"
             ],
             [
              0.7777777777777778,
              "#fb9f3a"
             ],
             [
              0.8888888888888888,
              "#fdca26"
             ],
             [
              1,
              "#f0f921"
             ]
            ],
            "type": "histogram2d"
           }
          ],
          "histogram2dcontour": [
           {
            "colorbar": {
             "outlinewidth": 0,
             "ticks": ""
            },
            "colorscale": [
             [
              0,
              "#0d0887"
             ],
             [
              0.1111111111111111,
              "#46039f"
             ],
             [
              0.2222222222222222,
              "#7201a8"
             ],
             [
              0.3333333333333333,
              "#9c179e"
             ],
             [
              0.4444444444444444,
              "#bd3786"
             ],
             [
              0.5555555555555556,
              "#d8576b"
             ],
             [
              0.6666666666666666,
              "#ed7953"
             ],
             [
              0.7777777777777778,
              "#fb9f3a"
             ],
             [
              0.8888888888888888,
              "#fdca26"
             ],
             [
              1,
              "#f0f921"
             ]
            ],
            "type": "histogram2dcontour"
           }
          ],
          "mesh3d": [
           {
            "colorbar": {
             "outlinewidth": 0,
             "ticks": ""
            },
            "type": "mesh3d"
           }
          ],
          "parcoords": [
           {
            "line": {
             "colorbar": {
              "outlinewidth": 0,
              "ticks": ""
             }
            },
            "type": "parcoords"
           }
          ],
          "pie": [
           {
            "automargin": true,
            "type": "pie"
           }
          ],
          "scatter": [
           {
            "fillpattern": {
             "fillmode": "overlay",
             "size": 10,
             "solidity": 0.2
            },
            "type": "scatter"
           }
          ],
          "scatter3d": [
           {
            "line": {
             "colorbar": {
              "outlinewidth": 0,
              "ticks": ""
             }
            },
            "marker": {
             "colorbar": {
              "outlinewidth": 0,
              "ticks": ""
             }
            },
            "type": "scatter3d"
           }
          ],
          "scattercarpet": [
           {
            "marker": {
             "colorbar": {
              "outlinewidth": 0,
              "ticks": ""
             }
            },
            "type": "scattercarpet"
           }
          ],
          "scattergeo": [
           {
            "marker": {
             "colorbar": {
              "outlinewidth": 0,
              "ticks": ""
             }
            },
            "type": "scattergeo"
           }
          ],
          "scattergl": [
           {
            "marker": {
             "colorbar": {
              "outlinewidth": 0,
              "ticks": ""
             }
            },
            "type": "scattergl"
           }
          ],
          "scattermap": [
           {
            "marker": {
             "colorbar": {
              "outlinewidth": 0,
              "ticks": ""
             }
            },
            "type": "scattermap"
           }
          ],
          "scattermapbox": [
           {
            "marker": {
             "colorbar": {
              "outlinewidth": 0,
              "ticks": ""
             }
            },
            "type": "scattermapbox"
           }
          ],
          "scatterpolar": [
           {
            "marker": {
             "colorbar": {
              "outlinewidth": 0,
              "ticks": ""
             }
            },
            "type": "scatterpolar"
           }
          ],
          "scatterpolargl": [
           {
            "marker": {
             "colorbar": {
              "outlinewidth": 0,
              "ticks": ""
             }
            },
            "type": "scatterpolargl"
           }
          ],
          "scatterternary": [
           {
            "marker": {
             "colorbar": {
              "outlinewidth": 0,
              "ticks": ""
             }
            },
            "type": "scatterternary"
           }
          ],
          "surface": [
           {
            "colorbar": {
             "outlinewidth": 0,
             "ticks": ""
            },
            "colorscale": [
             [
              0,
              "#0d0887"
             ],
             [
              0.1111111111111111,
              "#46039f"
             ],
             [
              0.2222222222222222,
              "#7201a8"
             ],
             [
              0.3333333333333333,
              "#9c179e"
             ],
             [
              0.4444444444444444,
              "#bd3786"
             ],
             [
              0.5555555555555556,
              "#d8576b"
             ],
             [
              0.6666666666666666,
              "#ed7953"
             ],
             [
              0.7777777777777778,
              "#fb9f3a"
             ],
             [
              0.8888888888888888,
              "#fdca26"
             ],
             [
              1,
              "#f0f921"
             ]
            ],
            "type": "surface"
           }
          ],
          "table": [
           {
            "cells": {
             "fill": {
              "color": "#EBF0F8"
             },
             "line": {
              "color": "white"
             }
            },
            "header": {
             "fill": {
              "color": "#C8D4E3"
             },
             "line": {
              "color": "white"
             }
            },
            "type": "table"
           }
          ]
         },
         "layout": {
          "annotationdefaults": {
           "arrowcolor": "#2a3f5f",
           "arrowhead": 0,
           "arrowwidth": 1
          },
          "autotypenumbers": "strict",
          "coloraxis": {
           "colorbar": {
            "outlinewidth": 0,
            "ticks": ""
           }
          },
          "colorscale": {
           "diverging": [
            [
             0,
             "#8e0152"
            ],
            [
             0.1,
             "#c51b7d"
            ],
            [
             0.2,
             "#de77ae"
            ],
            [
             0.3,
             "#f1b6da"
            ],
            [
             0.4,
             "#fde0ef"
            ],
            [
             0.5,
             "#f7f7f7"
            ],
            [
             0.6,
             "#e6f5d0"
            ],
            [
             0.7,
             "#b8e186"
            ],
            [
             0.8,
             "#7fbc41"
            ],
            [
             0.9,
             "#4d9221"
            ],
            [
             1,
             "#276419"
            ]
           ],
           "sequential": [
            [
             0,
             "#0d0887"
            ],
            [
             0.1111111111111111,
             "#46039f"
            ],
            [
             0.2222222222222222,
             "#7201a8"
            ],
            [
             0.3333333333333333,
             "#9c179e"
            ],
            [
             0.4444444444444444,
             "#bd3786"
            ],
            [
             0.5555555555555556,
             "#d8576b"
            ],
            [
             0.6666666666666666,
             "#ed7953"
            ],
            [
             0.7777777777777778,
             "#fb9f3a"
            ],
            [
             0.8888888888888888,
             "#fdca26"
            ],
            [
             1,
             "#f0f921"
            ]
           ],
           "sequentialminus": [
            [
             0,
             "#0d0887"
            ],
            [
             0.1111111111111111,
             "#46039f"
            ],
            [
             0.2222222222222222,
             "#7201a8"
            ],
            [
             0.3333333333333333,
             "#9c179e"
            ],
            [
             0.4444444444444444,
             "#bd3786"
            ],
            [
             0.5555555555555556,
             "#d8576b"
            ],
            [
             0.6666666666666666,
             "#ed7953"
            ],
            [
             0.7777777777777778,
             "#fb9f3a"
            ],
            [
             0.8888888888888888,
             "#fdca26"
            ],
            [
             1,
             "#f0f921"
            ]
           ]
          },
          "colorway": [
           "#636efa",
           "#EF553B",
           "#00cc96",
           "#ab63fa",
           "#FFA15A",
           "#19d3f3",
           "#FF6692",
           "#B6E880",
           "#FF97FF",
           "#FECB52"
          ],
          "font": {
           "color": "#2a3f5f"
          },
          "geo": {
           "bgcolor": "white",
           "lakecolor": "white",
           "landcolor": "#E5ECF6",
           "showlakes": true,
           "showland": true,
           "subunitcolor": "white"
          },
          "hoverlabel": {
           "align": "left"
          },
          "hovermode": "closest",
          "mapbox": {
           "style": "light"
          },
          "paper_bgcolor": "white",
          "plot_bgcolor": "#E5ECF6",
          "polar": {
           "angularaxis": {
            "gridcolor": "white",
            "linecolor": "white",
            "ticks": ""
           },
           "bgcolor": "#E5ECF6",
           "radialaxis": {
            "gridcolor": "white",
            "linecolor": "white",
            "ticks": ""
           }
          },
          "scene": {
           "xaxis": {
            "backgroundcolor": "#E5ECF6",
            "gridcolor": "white",
            "gridwidth": 2,
            "linecolor": "white",
            "showbackground": true,
            "ticks": "",
            "zerolinecolor": "white"
           },
           "yaxis": {
            "backgroundcolor": "#E5ECF6",
            "gridcolor": "white",
            "gridwidth": 2,
            "linecolor": "white",
            "showbackground": true,
            "ticks": "",
            "zerolinecolor": "white"
           },
           "zaxis": {
            "backgroundcolor": "#E5ECF6",
            "gridcolor": "white",
            "gridwidth": 2,
            "linecolor": "white",
            "showbackground": true,
            "ticks": "",
            "zerolinecolor": "white"
           }
          },
          "shapedefaults": {
           "line": {
            "color": "#2a3f5f"
           }
          },
          "ternary": {
           "aaxis": {
            "gridcolor": "white",
            "linecolor": "white",
            "ticks": ""
           },
           "baxis": {
            "gridcolor": "white",
            "linecolor": "white",
            "ticks": ""
           },
           "bgcolor": "#E5ECF6",
           "caxis": {
            "gridcolor": "white",
            "linecolor": "white",
            "ticks": ""
           }
          },
          "title": {
           "x": 0.05
          },
          "xaxis": {
           "automargin": true,
           "gridcolor": "white",
           "linecolor": "white",
           "ticks": "",
           "title": {
            "standoff": 15
           },
           "zerolinecolor": "white",
           "zerolinewidth": 2
          },
          "yaxis": {
           "automargin": true,
           "gridcolor": "white",
           "linecolor": "white",
           "ticks": "",
           "title": {
            "standoff": 15
           },
           "zerolinecolor": "white",
           "zerolinewidth": 2
          }
         }
        },
        "violinmode": "group",
        "xaxis": {
         "anchor": "y",
         "domain": [
          0,
          1
         ],
         "title": {
          "text": "Price"
         }
        },
        "yaxis": {
         "anchor": "x",
         "domain": [
          0,
          1
         ]
        }
       }
      }
     },
     "metadata": {},
     "output_type": "display_data"
    }
   ],
   "source": [
    "fig2=px.violin(df,x='Price')\n",
    "fig2.show()"
   ]
  },
  {
   "cell_type": "code",
   "execution_count": 8,
   "id": "d0fe6f2a",
   "metadata": {},
   "outputs": [],
   "source": [
    "cat_cols=['Drug Name', 'Manufacturer', 'Strength', 'Form', 'Indication','Side Effects', 'Available In', 'Age Restriction','Prescription Required']"
   ]
  },
  {
   "cell_type": "code",
   "execution_count": 9,
   "id": "4bcd56b4",
   "metadata": {},
   "outputs": [],
   "source": [
    "cat_pipeline = Pipeline([\n",
    "    ('imputer', SimpleImputer(strategy='most_frequent')),\n",
    "    ('encoder', OrdinalEncoder(handle_unknown='use_encoded_value', unknown_value=-1))\n",
    "])"
   ]
  },
  {
   "cell_type": "code",
   "execution_count": 10,
   "id": "bc20f735",
   "metadata": {},
   "outputs": [],
   "source": [
    "# Combine into a column transformer\n",
    "preprocessor = ColumnTransformer([\n",
    "    ('cat', cat_pipeline, cat_cols)\n",
    "])"
   ]
  },
  {
   "cell_type": "code",
   "execution_count": 11,
   "id": "026bb7d3",
   "metadata": {},
   "outputs": [],
   "source": [
    "X=df.drop('Price',axis=1)\n",
    "y=df['Price']\n",
    "\n",
    "X_train,X_test,y_train,y_test=train_test_split(X,y,test_size=0.2,random_state=42)\n"
   ]
  },
  {
   "cell_type": "code",
   "execution_count": 12,
   "id": "520a1e7c",
   "metadata": {},
   "outputs": [],
   "source": [
    "X_train_processed = preprocessor.fit_transform(X_train)\n",
    "X_test_processed = preprocessor.transform(X_test)"
   ]
  },
  {
   "cell_type": "code",
   "execution_count": 13,
   "id": "77508efa",
   "metadata": {},
   "outputs": [
    {
     "data": {
      "text/html": [
       "<style>#sk-container-id-1 {\n",
       "  /* Definition of color scheme common for light and dark mode */\n",
       "  --sklearn-color-text: #000;\n",
       "  --sklearn-color-text-muted: #666;\n",
       "  --sklearn-color-line: gray;\n",
       "  /* Definition of color scheme for unfitted estimators */\n",
       "  --sklearn-color-unfitted-level-0: #fff5e6;\n",
       "  --sklearn-color-unfitted-level-1: #f6e4d2;\n",
       "  --sklearn-color-unfitted-level-2: #ffe0b3;\n",
       "  --sklearn-color-unfitted-level-3: chocolate;\n",
       "  /* Definition of color scheme for fitted estimators */\n",
       "  --sklearn-color-fitted-level-0: #f0f8ff;\n",
       "  --sklearn-color-fitted-level-1: #d4ebff;\n",
       "  --sklearn-color-fitted-level-2: #b3dbfd;\n",
       "  --sklearn-color-fitted-level-3: cornflowerblue;\n",
       "\n",
       "  /* Specific color for light theme */\n",
       "  --sklearn-color-text-on-default-background: var(--sg-text-color, var(--theme-code-foreground, var(--jp-content-font-color1, black)));\n",
       "  --sklearn-color-background: var(--sg-background-color, var(--theme-background, var(--jp-layout-color0, white)));\n",
       "  --sklearn-color-border-box: var(--sg-text-color, var(--theme-code-foreground, var(--jp-content-font-color1, black)));\n",
       "  --sklearn-color-icon: #696969;\n",
       "\n",
       "  @media (prefers-color-scheme: dark) {\n",
       "    /* Redefinition of color scheme for dark theme */\n",
       "    --sklearn-color-text-on-default-background: var(--sg-text-color, var(--theme-code-foreground, var(--jp-content-font-color1, white)));\n",
       "    --sklearn-color-background: var(--sg-background-color, var(--theme-background, var(--jp-layout-color0, #111)));\n",
       "    --sklearn-color-border-box: var(--sg-text-color, var(--theme-code-foreground, var(--jp-content-font-color1, white)));\n",
       "    --sklearn-color-icon: #878787;\n",
       "  }\n",
       "}\n",
       "\n",
       "#sk-container-id-1 {\n",
       "  color: var(--sklearn-color-text);\n",
       "}\n",
       "\n",
       "#sk-container-id-1 pre {\n",
       "  padding: 0;\n",
       "}\n",
       "\n",
       "#sk-container-id-1 input.sk-hidden--visually {\n",
       "  border: 0;\n",
       "  clip: rect(1px 1px 1px 1px);\n",
       "  clip: rect(1px, 1px, 1px, 1px);\n",
       "  height: 1px;\n",
       "  margin: -1px;\n",
       "  overflow: hidden;\n",
       "  padding: 0;\n",
       "  position: absolute;\n",
       "  width: 1px;\n",
       "}\n",
       "\n",
       "#sk-container-id-1 div.sk-dashed-wrapped {\n",
       "  border: 1px dashed var(--sklearn-color-line);\n",
       "  margin: 0 0.4em 0.5em 0.4em;\n",
       "  box-sizing: border-box;\n",
       "  padding-bottom: 0.4em;\n",
       "  background-color: var(--sklearn-color-background);\n",
       "}\n",
       "\n",
       "#sk-container-id-1 div.sk-container {\n",
       "  /* jupyter's `normalize.less` sets `[hidden] { display: none; }`\n",
       "     but bootstrap.min.css set `[hidden] { display: none !important; }`\n",
       "     so we also need the `!important` here to be able to override the\n",
       "     default hidden behavior on the sphinx rendered scikit-learn.org.\n",
       "     See: https://github.com/scikit-learn/scikit-learn/issues/21755 */\n",
       "  display: inline-block !important;\n",
       "  position: relative;\n",
       "}\n",
       "\n",
       "#sk-container-id-1 div.sk-text-repr-fallback {\n",
       "  display: none;\n",
       "}\n",
       "\n",
       "div.sk-parallel-item,\n",
       "div.sk-serial,\n",
       "div.sk-item {\n",
       "  /* draw centered vertical line to link estimators */\n",
       "  background-image: linear-gradient(var(--sklearn-color-text-on-default-background), var(--sklearn-color-text-on-default-background));\n",
       "  background-size: 2px 100%;\n",
       "  background-repeat: no-repeat;\n",
       "  background-position: center center;\n",
       "}\n",
       "\n",
       "/* Parallel-specific style estimator block */\n",
       "\n",
       "#sk-container-id-1 div.sk-parallel-item::after {\n",
       "  content: \"\";\n",
       "  width: 100%;\n",
       "  border-bottom: 2px solid var(--sklearn-color-text-on-default-background);\n",
       "  flex-grow: 1;\n",
       "}\n",
       "\n",
       "#sk-container-id-1 div.sk-parallel {\n",
       "  display: flex;\n",
       "  align-items: stretch;\n",
       "  justify-content: center;\n",
       "  background-color: var(--sklearn-color-background);\n",
       "  position: relative;\n",
       "}\n",
       "\n",
       "#sk-container-id-1 div.sk-parallel-item {\n",
       "  display: flex;\n",
       "  flex-direction: column;\n",
       "}\n",
       "\n",
       "#sk-container-id-1 div.sk-parallel-item:first-child::after {\n",
       "  align-self: flex-end;\n",
       "  width: 50%;\n",
       "}\n",
       "\n",
       "#sk-container-id-1 div.sk-parallel-item:last-child::after {\n",
       "  align-self: flex-start;\n",
       "  width: 50%;\n",
       "}\n",
       "\n",
       "#sk-container-id-1 div.sk-parallel-item:only-child::after {\n",
       "  width: 0;\n",
       "}\n",
       "\n",
       "/* Serial-specific style estimator block */\n",
       "\n",
       "#sk-container-id-1 div.sk-serial {\n",
       "  display: flex;\n",
       "  flex-direction: column;\n",
       "  align-items: center;\n",
       "  background-color: var(--sklearn-color-background);\n",
       "  padding-right: 1em;\n",
       "  padding-left: 1em;\n",
       "}\n",
       "\n",
       "\n",
       "/* Toggleable style: style used for estimator/Pipeline/ColumnTransformer box that is\n",
       "clickable and can be expanded/collapsed.\n",
       "- Pipeline and ColumnTransformer use this feature and define the default style\n",
       "- Estimators will overwrite some part of the style using the `sk-estimator` class\n",
       "*/\n",
       "\n",
       "/* Pipeline and ColumnTransformer style (default) */\n",
       "\n",
       "#sk-container-id-1 div.sk-toggleable {\n",
       "  /* Default theme specific background. It is overwritten whether we have a\n",
       "  specific estimator or a Pipeline/ColumnTransformer */\n",
       "  background-color: var(--sklearn-color-background);\n",
       "}\n",
       "\n",
       "/* Toggleable label */\n",
       "#sk-container-id-1 label.sk-toggleable__label {\n",
       "  cursor: pointer;\n",
       "  display: flex;\n",
       "  width: 100%;\n",
       "  margin-bottom: 0;\n",
       "  padding: 0.5em;\n",
       "  box-sizing: border-box;\n",
       "  text-align: center;\n",
       "  align-items: start;\n",
       "  justify-content: space-between;\n",
       "  gap: 0.5em;\n",
       "}\n",
       "\n",
       "#sk-container-id-1 label.sk-toggleable__label .caption {\n",
       "  font-size: 0.6rem;\n",
       "  font-weight: lighter;\n",
       "  color: var(--sklearn-color-text-muted);\n",
       "}\n",
       "\n",
       "#sk-container-id-1 label.sk-toggleable__label-arrow:before {\n",
       "  /* Arrow on the left of the label */\n",
       "  content: \"▸\";\n",
       "  float: left;\n",
       "  margin-right: 0.25em;\n",
       "  color: var(--sklearn-color-icon);\n",
       "}\n",
       "\n",
       "#sk-container-id-1 label.sk-toggleable__label-arrow:hover:before {\n",
       "  color: var(--sklearn-color-text);\n",
       "}\n",
       "\n",
       "/* Toggleable content - dropdown */\n",
       "\n",
       "#sk-container-id-1 div.sk-toggleable__content {\n",
       "  display: none;\n",
       "  text-align: left;\n",
       "  /* unfitted */\n",
       "  background-color: var(--sklearn-color-unfitted-level-0);\n",
       "}\n",
       "\n",
       "#sk-container-id-1 div.sk-toggleable__content.fitted {\n",
       "  /* fitted */\n",
       "  background-color: var(--sklearn-color-fitted-level-0);\n",
       "}\n",
       "\n",
       "#sk-container-id-1 div.sk-toggleable__content pre {\n",
       "  margin: 0.2em;\n",
       "  border-radius: 0.25em;\n",
       "  color: var(--sklearn-color-text);\n",
       "  /* unfitted */\n",
       "  background-color: var(--sklearn-color-unfitted-level-0);\n",
       "}\n",
       "\n",
       "#sk-container-id-1 div.sk-toggleable__content.fitted pre {\n",
       "  /* unfitted */\n",
       "  background-color: var(--sklearn-color-fitted-level-0);\n",
       "}\n",
       "\n",
       "#sk-container-id-1 input.sk-toggleable__control:checked~div.sk-toggleable__content {\n",
       "  /* Expand drop-down */\n",
       "  display: block;\n",
       "  width: 100%;\n",
       "  overflow: visible;\n",
       "}\n",
       "\n",
       "#sk-container-id-1 input.sk-toggleable__control:checked~label.sk-toggleable__label-arrow:before {\n",
       "  content: \"▾\";\n",
       "}\n",
       "\n",
       "/* Pipeline/ColumnTransformer-specific style */\n",
       "\n",
       "#sk-container-id-1 div.sk-label input.sk-toggleable__control:checked~label.sk-toggleable__label {\n",
       "  color: var(--sklearn-color-text);\n",
       "  background-color: var(--sklearn-color-unfitted-level-2);\n",
       "}\n",
       "\n",
       "#sk-container-id-1 div.sk-label.fitted input.sk-toggleable__control:checked~label.sk-toggleable__label {\n",
       "  background-color: var(--sklearn-color-fitted-level-2);\n",
       "}\n",
       "\n",
       "/* Estimator-specific style */\n",
       "\n",
       "/* Colorize estimator box */\n",
       "#sk-container-id-1 div.sk-estimator input.sk-toggleable__control:checked~label.sk-toggleable__label {\n",
       "  /* unfitted */\n",
       "  background-color: var(--sklearn-color-unfitted-level-2);\n",
       "}\n",
       "\n",
       "#sk-container-id-1 div.sk-estimator.fitted input.sk-toggleable__control:checked~label.sk-toggleable__label {\n",
       "  /* fitted */\n",
       "  background-color: var(--sklearn-color-fitted-level-2);\n",
       "}\n",
       "\n",
       "#sk-container-id-1 div.sk-label label.sk-toggleable__label,\n",
       "#sk-container-id-1 div.sk-label label {\n",
       "  /* The background is the default theme color */\n",
       "  color: var(--sklearn-color-text-on-default-background);\n",
       "}\n",
       "\n",
       "/* On hover, darken the color of the background */\n",
       "#sk-container-id-1 div.sk-label:hover label.sk-toggleable__label {\n",
       "  color: var(--sklearn-color-text);\n",
       "  background-color: var(--sklearn-color-unfitted-level-2);\n",
       "}\n",
       "\n",
       "/* Label box, darken color on hover, fitted */\n",
       "#sk-container-id-1 div.sk-label.fitted:hover label.sk-toggleable__label.fitted {\n",
       "  color: var(--sklearn-color-text);\n",
       "  background-color: var(--sklearn-color-fitted-level-2);\n",
       "}\n",
       "\n",
       "/* Estimator label */\n",
       "\n",
       "#sk-container-id-1 div.sk-label label {\n",
       "  font-family: monospace;\n",
       "  font-weight: bold;\n",
       "  display: inline-block;\n",
       "  line-height: 1.2em;\n",
       "}\n",
       "\n",
       "#sk-container-id-1 div.sk-label-container {\n",
       "  text-align: center;\n",
       "}\n",
       "\n",
       "/* Estimator-specific */\n",
       "#sk-container-id-1 div.sk-estimator {\n",
       "  font-family: monospace;\n",
       "  border: 1px dotted var(--sklearn-color-border-box);\n",
       "  border-radius: 0.25em;\n",
       "  box-sizing: border-box;\n",
       "  margin-bottom: 0.5em;\n",
       "  /* unfitted */\n",
       "  background-color: var(--sklearn-color-unfitted-level-0);\n",
       "}\n",
       "\n",
       "#sk-container-id-1 div.sk-estimator.fitted {\n",
       "  /* fitted */\n",
       "  background-color: var(--sklearn-color-fitted-level-0);\n",
       "}\n",
       "\n",
       "/* on hover */\n",
       "#sk-container-id-1 div.sk-estimator:hover {\n",
       "  /* unfitted */\n",
       "  background-color: var(--sklearn-color-unfitted-level-2);\n",
       "}\n",
       "\n",
       "#sk-container-id-1 div.sk-estimator.fitted:hover {\n",
       "  /* fitted */\n",
       "  background-color: var(--sklearn-color-fitted-level-2);\n",
       "}\n",
       "\n",
       "/* Specification for estimator info (e.g. \"i\" and \"?\") */\n",
       "\n",
       "/* Common style for \"i\" and \"?\" */\n",
       "\n",
       ".sk-estimator-doc-link,\n",
       "a:link.sk-estimator-doc-link,\n",
       "a:visited.sk-estimator-doc-link {\n",
       "  float: right;\n",
       "  font-size: smaller;\n",
       "  line-height: 1em;\n",
       "  font-family: monospace;\n",
       "  background-color: var(--sklearn-color-background);\n",
       "  border-radius: 1em;\n",
       "  height: 1em;\n",
       "  width: 1em;\n",
       "  text-decoration: none !important;\n",
       "  margin-left: 0.5em;\n",
       "  text-align: center;\n",
       "  /* unfitted */\n",
       "  border: var(--sklearn-color-unfitted-level-1) 1pt solid;\n",
       "  color: var(--sklearn-color-unfitted-level-1);\n",
       "}\n",
       "\n",
       ".sk-estimator-doc-link.fitted,\n",
       "a:link.sk-estimator-doc-link.fitted,\n",
       "a:visited.sk-estimator-doc-link.fitted {\n",
       "  /* fitted */\n",
       "  border: var(--sklearn-color-fitted-level-1) 1pt solid;\n",
       "  color: var(--sklearn-color-fitted-level-1);\n",
       "}\n",
       "\n",
       "/* On hover */\n",
       "div.sk-estimator:hover .sk-estimator-doc-link:hover,\n",
       ".sk-estimator-doc-link:hover,\n",
       "div.sk-label-container:hover .sk-estimator-doc-link:hover,\n",
       ".sk-estimator-doc-link:hover {\n",
       "  /* unfitted */\n",
       "  background-color: var(--sklearn-color-unfitted-level-3);\n",
       "  color: var(--sklearn-color-background);\n",
       "  text-decoration: none;\n",
       "}\n",
       "\n",
       "div.sk-estimator.fitted:hover .sk-estimator-doc-link.fitted:hover,\n",
       ".sk-estimator-doc-link.fitted:hover,\n",
       "div.sk-label-container:hover .sk-estimator-doc-link.fitted:hover,\n",
       ".sk-estimator-doc-link.fitted:hover {\n",
       "  /* fitted */\n",
       "  background-color: var(--sklearn-color-fitted-level-3);\n",
       "  color: var(--sklearn-color-background);\n",
       "  text-decoration: none;\n",
       "}\n",
       "\n",
       "/* Span, style for the box shown on hovering the info icon */\n",
       ".sk-estimator-doc-link span {\n",
       "  display: none;\n",
       "  z-index: 9999;\n",
       "  position: relative;\n",
       "  font-weight: normal;\n",
       "  right: .2ex;\n",
       "  padding: .5ex;\n",
       "  margin: .5ex;\n",
       "  width: min-content;\n",
       "  min-width: 20ex;\n",
       "  max-width: 50ex;\n",
       "  color: var(--sklearn-color-text);\n",
       "  box-shadow: 2pt 2pt 4pt #999;\n",
       "  /* unfitted */\n",
       "  background: var(--sklearn-color-unfitted-level-0);\n",
       "  border: .5pt solid var(--sklearn-color-unfitted-level-3);\n",
       "}\n",
       "\n",
       ".sk-estimator-doc-link.fitted span {\n",
       "  /* fitted */\n",
       "  background: var(--sklearn-color-fitted-level-0);\n",
       "  border: var(--sklearn-color-fitted-level-3);\n",
       "}\n",
       "\n",
       ".sk-estimator-doc-link:hover span {\n",
       "  display: block;\n",
       "}\n",
       "\n",
       "/* \"?\"-specific style due to the `<a>` HTML tag */\n",
       "\n",
       "#sk-container-id-1 a.estimator_doc_link {\n",
       "  float: right;\n",
       "  font-size: 1rem;\n",
       "  line-height: 1em;\n",
       "  font-family: monospace;\n",
       "  background-color: var(--sklearn-color-background);\n",
       "  border-radius: 1rem;\n",
       "  height: 1rem;\n",
       "  width: 1rem;\n",
       "  text-decoration: none;\n",
       "  /* unfitted */\n",
       "  color: var(--sklearn-color-unfitted-level-1);\n",
       "  border: var(--sklearn-color-unfitted-level-1) 1pt solid;\n",
       "}\n",
       "\n",
       "#sk-container-id-1 a.estimator_doc_link.fitted {\n",
       "  /* fitted */\n",
       "  border: var(--sklearn-color-fitted-level-1) 1pt solid;\n",
       "  color: var(--sklearn-color-fitted-level-1);\n",
       "}\n",
       "\n",
       "/* On hover */\n",
       "#sk-container-id-1 a.estimator_doc_link:hover {\n",
       "  /* unfitted */\n",
       "  background-color: var(--sklearn-color-unfitted-level-3);\n",
       "  color: var(--sklearn-color-background);\n",
       "  text-decoration: none;\n",
       "}\n",
       "\n",
       "#sk-container-id-1 a.estimator_doc_link.fitted:hover {\n",
       "  /* fitted */\n",
       "  background-color: var(--sklearn-color-fitted-level-3);\n",
       "}\n",
       "\n",
       ".estimator-table summary {\n",
       "    padding: .5rem;\n",
       "    font-family: monospace;\n",
       "    cursor: pointer;\n",
       "}\n",
       "\n",
       ".estimator-table details[open] {\n",
       "    padding-left: 0.1rem;\n",
       "    padding-right: 0.1rem;\n",
       "    padding-bottom: 0.3rem;\n",
       "}\n",
       "\n",
       ".estimator-table .parameters-table {\n",
       "    margin-left: auto !important;\n",
       "    margin-right: auto !important;\n",
       "}\n",
       "\n",
       ".estimator-table .parameters-table tr:nth-child(odd) {\n",
       "    background-color: #fff;\n",
       "}\n",
       "\n",
       ".estimator-table .parameters-table tr:nth-child(even) {\n",
       "    background-color: #f6f6f6;\n",
       "}\n",
       "\n",
       ".estimator-table .parameters-table tr:hover {\n",
       "    background-color: #e0e0e0;\n",
       "}\n",
       "\n",
       ".estimator-table table td {\n",
       "    border: 1px solid rgba(106, 105, 104, 0.232);\n",
       "}\n",
       "\n",
       ".user-set td {\n",
       "    color:rgb(255, 94, 0);\n",
       "    text-align: left;\n",
       "}\n",
       "\n",
       ".user-set td.value pre {\n",
       "    color:rgb(255, 94, 0) !important;\n",
       "    background-color: transparent !important;\n",
       "}\n",
       "\n",
       ".default td {\n",
       "    color: black;\n",
       "    text-align: left;\n",
       "}\n",
       "\n",
       ".user-set td i,\n",
       ".default td i {\n",
       "    color: black;\n",
       "}\n",
       "\n",
       ".copy-paste-icon {\n",
       "    background-image: url(data:image/svg+xml;base64,PHN2ZyB4bWxucz0iaHR0cDovL3d3dy53My5vcmcvMjAwMC9zdmciIHZpZXdCb3g9IjAgMCA0NDggNTEyIj48IS0tIUZvbnQgQXdlc29tZSBGcmVlIDYuNy4yIGJ5IEBmb250YXdlc29tZSAtIGh0dHBzOi8vZm9udGF3ZXNvbWUuY29tIExpY2Vuc2UgLSBodHRwczovL2ZvbnRhd2Vzb21lLmNvbS9saWNlbnNlL2ZyZWUgQ29weXJpZ2h0IDIwMjUgRm9udGljb25zLCBJbmMuLS0+PHBhdGggZD0iTTIwOCAwTDMzMi4xIDBjMTIuNyAwIDI0LjkgNS4xIDMzLjkgMTQuMWw2Ny45IDY3LjljOSA5IDE0LjEgMjEuMiAxNC4xIDMzLjlMNDQ4IDMzNmMwIDI2LjUtMjEuNSA0OC00OCA0OGwtMTkyIDBjLTI2LjUgMC00OC0yMS41LTQ4LTQ4bDAtMjg4YzAtMjYuNSAyMS41LTQ4IDQ4LTQ4ek00OCAxMjhsODAgMCAwIDY0LTY0IDAgMCAyNTYgMTkyIDAgMC0zMiA2NCAwIDAgNDhjMCAyNi41LTIxLjUgNDgtNDggNDhMNDggNTEyYy0yNi41IDAtNDgtMjEuNS00OC00OEwwIDE3NmMwLTI2LjUgMjEuNS00OCA0OC00OHoiLz48L3N2Zz4=);\n",
       "    background-repeat: no-repeat;\n",
       "    background-size: 14px 14px;\n",
       "    background-position: 0;\n",
       "    display: inline-block;\n",
       "    width: 14px;\n",
       "    height: 14px;\n",
       "    cursor: pointer;\n",
       "}\n",
       "</style><body><div id=\"sk-container-id-1\" class=\"sk-top-container\"><div class=\"sk-text-repr-fallback\"><pre>RandomForestRegressor(random_state=42)</pre><b>In a Jupyter environment, please rerun this cell to show the HTML representation or trust the notebook. <br />On GitHub, the HTML representation is unable to render, please try loading this page with nbviewer.org.</b></div><div class=\"sk-container\" hidden><div class=\"sk-item\"><div class=\"sk-estimator fitted sk-toggleable\"><input class=\"sk-toggleable__control sk-hidden--visually\" id=\"sk-estimator-id-1\" type=\"checkbox\" checked><label for=\"sk-estimator-id-1\" class=\"sk-toggleable__label fitted sk-toggleable__label-arrow\"><div><div>RandomForestRegressor</div></div><div><a class=\"sk-estimator-doc-link fitted\" rel=\"noreferrer\" target=\"_blank\" href=\"https://scikit-learn.org/1.7/modules/generated/sklearn.ensemble.RandomForestRegressor.html\">?<span>Documentation for RandomForestRegressor</span></a><span class=\"sk-estimator-doc-link fitted\">i<span>Fitted</span></span></div></label><div class=\"sk-toggleable__content fitted\" data-param-prefix=\"\">\n",
       "        <div class=\"estimator-table\">\n",
       "            <details>\n",
       "                <summary>Parameters</summary>\n",
       "                <table class=\"parameters-table\">\n",
       "                  <tbody>\n",
       "                    \n",
       "        <tr class=\"default\">\n",
       "            <td><i class=\"copy-paste-icon\"\n",
       "                 onclick=\"copyToClipboard('n_estimators',\n",
       "                          this.parentElement.nextElementSibling)\"\n",
       "            ></i></td>\n",
       "            <td class=\"param\">n_estimators&nbsp;</td>\n",
       "            <td class=\"value\">100</td>\n",
       "        </tr>\n",
       "    \n",
       "\n",
       "        <tr class=\"default\">\n",
       "            <td><i class=\"copy-paste-icon\"\n",
       "                 onclick=\"copyToClipboard('criterion',\n",
       "                          this.parentElement.nextElementSibling)\"\n",
       "            ></i></td>\n",
       "            <td class=\"param\">criterion&nbsp;</td>\n",
       "            <td class=\"value\">&#x27;squared_error&#x27;</td>\n",
       "        </tr>\n",
       "    \n",
       "\n",
       "        <tr class=\"default\">\n",
       "            <td><i class=\"copy-paste-icon\"\n",
       "                 onclick=\"copyToClipboard('max_depth',\n",
       "                          this.parentElement.nextElementSibling)\"\n",
       "            ></i></td>\n",
       "            <td class=\"param\">max_depth&nbsp;</td>\n",
       "            <td class=\"value\">None</td>\n",
       "        </tr>\n",
       "    \n",
       "\n",
       "        <tr class=\"default\">\n",
       "            <td><i class=\"copy-paste-icon\"\n",
       "                 onclick=\"copyToClipboard('min_samples_split',\n",
       "                          this.parentElement.nextElementSibling)\"\n",
       "            ></i></td>\n",
       "            <td class=\"param\">min_samples_split&nbsp;</td>\n",
       "            <td class=\"value\">2</td>\n",
       "        </tr>\n",
       "    \n",
       "\n",
       "        <tr class=\"default\">\n",
       "            <td><i class=\"copy-paste-icon\"\n",
       "                 onclick=\"copyToClipboard('min_samples_leaf',\n",
       "                          this.parentElement.nextElementSibling)\"\n",
       "            ></i></td>\n",
       "            <td class=\"param\">min_samples_leaf&nbsp;</td>\n",
       "            <td class=\"value\">1</td>\n",
       "        </tr>\n",
       "    \n",
       "\n",
       "        <tr class=\"default\">\n",
       "            <td><i class=\"copy-paste-icon\"\n",
       "                 onclick=\"copyToClipboard('min_weight_fraction_leaf',\n",
       "                          this.parentElement.nextElementSibling)\"\n",
       "            ></i></td>\n",
       "            <td class=\"param\">min_weight_fraction_leaf&nbsp;</td>\n",
       "            <td class=\"value\">0.0</td>\n",
       "        </tr>\n",
       "    \n",
       "\n",
       "        <tr class=\"default\">\n",
       "            <td><i class=\"copy-paste-icon\"\n",
       "                 onclick=\"copyToClipboard('max_features',\n",
       "                          this.parentElement.nextElementSibling)\"\n",
       "            ></i></td>\n",
       "            <td class=\"param\">max_features&nbsp;</td>\n",
       "            <td class=\"value\">1.0</td>\n",
       "        </tr>\n",
       "    \n",
       "\n",
       "        <tr class=\"default\">\n",
       "            <td><i class=\"copy-paste-icon\"\n",
       "                 onclick=\"copyToClipboard('max_leaf_nodes',\n",
       "                          this.parentElement.nextElementSibling)\"\n",
       "            ></i></td>\n",
       "            <td class=\"param\">max_leaf_nodes&nbsp;</td>\n",
       "            <td class=\"value\">None</td>\n",
       "        </tr>\n",
       "    \n",
       "\n",
       "        <tr class=\"default\">\n",
       "            <td><i class=\"copy-paste-icon\"\n",
       "                 onclick=\"copyToClipboard('min_impurity_decrease',\n",
       "                          this.parentElement.nextElementSibling)\"\n",
       "            ></i></td>\n",
       "            <td class=\"param\">min_impurity_decrease&nbsp;</td>\n",
       "            <td class=\"value\">0.0</td>\n",
       "        </tr>\n",
       "    \n",
       "\n",
       "        <tr class=\"default\">\n",
       "            <td><i class=\"copy-paste-icon\"\n",
       "                 onclick=\"copyToClipboard('bootstrap',\n",
       "                          this.parentElement.nextElementSibling)\"\n",
       "            ></i></td>\n",
       "            <td class=\"param\">bootstrap&nbsp;</td>\n",
       "            <td class=\"value\">True</td>\n",
       "        </tr>\n",
       "    \n",
       "\n",
       "        <tr class=\"default\">\n",
       "            <td><i class=\"copy-paste-icon\"\n",
       "                 onclick=\"copyToClipboard('oob_score',\n",
       "                          this.parentElement.nextElementSibling)\"\n",
       "            ></i></td>\n",
       "            <td class=\"param\">oob_score&nbsp;</td>\n",
       "            <td class=\"value\">False</td>\n",
       "        </tr>\n",
       "    \n",
       "\n",
       "        <tr class=\"default\">\n",
       "            <td><i class=\"copy-paste-icon\"\n",
       "                 onclick=\"copyToClipboard('n_jobs',\n",
       "                          this.parentElement.nextElementSibling)\"\n",
       "            ></i></td>\n",
       "            <td class=\"param\">n_jobs&nbsp;</td>\n",
       "            <td class=\"value\">None</td>\n",
       "        </tr>\n",
       "    \n",
       "\n",
       "        <tr class=\"user-set\">\n",
       "            <td><i class=\"copy-paste-icon\"\n",
       "                 onclick=\"copyToClipboard('random_state',\n",
       "                          this.parentElement.nextElementSibling)\"\n",
       "            ></i></td>\n",
       "            <td class=\"param\">random_state&nbsp;</td>\n",
       "            <td class=\"value\">42</td>\n",
       "        </tr>\n",
       "    \n",
       "\n",
       "        <tr class=\"default\">\n",
       "            <td><i class=\"copy-paste-icon\"\n",
       "                 onclick=\"copyToClipboard('verbose',\n",
       "                          this.parentElement.nextElementSibling)\"\n",
       "            ></i></td>\n",
       "            <td class=\"param\">verbose&nbsp;</td>\n",
       "            <td class=\"value\">0</td>\n",
       "        </tr>\n",
       "    \n",
       "\n",
       "        <tr class=\"default\">\n",
       "            <td><i class=\"copy-paste-icon\"\n",
       "                 onclick=\"copyToClipboard('warm_start',\n",
       "                          this.parentElement.nextElementSibling)\"\n",
       "            ></i></td>\n",
       "            <td class=\"param\">warm_start&nbsp;</td>\n",
       "            <td class=\"value\">False</td>\n",
       "        </tr>\n",
       "    \n",
       "\n",
       "        <tr class=\"default\">\n",
       "            <td><i class=\"copy-paste-icon\"\n",
       "                 onclick=\"copyToClipboard('ccp_alpha',\n",
       "                          this.parentElement.nextElementSibling)\"\n",
       "            ></i></td>\n",
       "            <td class=\"param\">ccp_alpha&nbsp;</td>\n",
       "            <td class=\"value\">0.0</td>\n",
       "        </tr>\n",
       "    \n",
       "\n",
       "        <tr class=\"default\">\n",
       "            <td><i class=\"copy-paste-icon\"\n",
       "                 onclick=\"copyToClipboard('max_samples',\n",
       "                          this.parentElement.nextElementSibling)\"\n",
       "            ></i></td>\n",
       "            <td class=\"param\">max_samples&nbsp;</td>\n",
       "            <td class=\"value\">None</td>\n",
       "        </tr>\n",
       "    \n",
       "\n",
       "        <tr class=\"default\">\n",
       "            <td><i class=\"copy-paste-icon\"\n",
       "                 onclick=\"copyToClipboard('monotonic_cst',\n",
       "                          this.parentElement.nextElementSibling)\"\n",
       "            ></i></td>\n",
       "            <td class=\"param\">monotonic_cst&nbsp;</td>\n",
       "            <td class=\"value\">None</td>\n",
       "        </tr>\n",
       "    \n",
       "                  </tbody>\n",
       "                </table>\n",
       "            </details>\n",
       "        </div>\n",
       "    </div></div></div></div></div><script>function copyToClipboard(text, element) {\n",
       "    // Get the parameter prefix from the closest toggleable content\n",
       "    const toggleableContent = element.closest('.sk-toggleable__content');\n",
       "    const paramPrefix = toggleableContent ? toggleableContent.dataset.paramPrefix : '';\n",
       "    const fullParamName = paramPrefix ? `${paramPrefix}${text}` : text;\n",
       "\n",
       "    const originalStyle = element.style;\n",
       "    const computedStyle = window.getComputedStyle(element);\n",
       "    const originalWidth = computedStyle.width;\n",
       "    const originalHTML = element.innerHTML.replace('Copied!', '');\n",
       "\n",
       "    navigator.clipboard.writeText(fullParamName)\n",
       "        .then(() => {\n",
       "            element.style.width = originalWidth;\n",
       "            element.style.color = 'green';\n",
       "            element.innerHTML = \"Copied!\";\n",
       "\n",
       "            setTimeout(() => {\n",
       "                element.innerHTML = originalHTML;\n",
       "                element.style = originalStyle;\n",
       "            }, 2000);\n",
       "        })\n",
       "        .catch(err => {\n",
       "            console.error('Failed to copy:', err);\n",
       "            element.style.color = 'red';\n",
       "            element.innerHTML = \"Failed!\";\n",
       "            setTimeout(() => {\n",
       "                element.innerHTML = originalHTML;\n",
       "                element.style = originalStyle;\n",
       "            }, 2000);\n",
       "        });\n",
       "    return false;\n",
       "}\n",
       "\n",
       "document.querySelectorAll('.fa-regular.fa-copy').forEach(function(element) {\n",
       "    const toggleableContent = element.closest('.sk-toggleable__content');\n",
       "    const paramPrefix = toggleableContent ? toggleableContent.dataset.paramPrefix : '';\n",
       "    const paramName = element.parentElement.nextElementSibling.textContent.trim();\n",
       "    const fullParamName = paramPrefix ? `${paramPrefix}${paramName}` : paramName;\n",
       "\n",
       "    element.setAttribute('title', fullParamName);\n",
       "});\n",
       "</script></body>"
      ],
      "text/plain": [
       "RandomForestRegressor(random_state=42)"
      ]
     },
     "execution_count": 13,
     "metadata": {},
     "output_type": "execute_result"
    }
   ],
   "source": [
    "from sklearn.ensemble import RandomForestRegressor\n",
    "model = RandomForestRegressor(random_state=42)\n",
    "model.fit(X_train_processed, y_train)"
   ]
  },
  {
   "cell_type": "code",
   "execution_count": 14,
   "id": "fa9933fa",
   "metadata": {},
   "outputs": [
    {
     "name": "stdout",
     "output_type": "stream",
     "text": [
      "MAE: 84.62557894736847\n",
      "RMSE: 111.58680625215864\n",
      "R2 Score: 0.15712064853288188\n",
      "MSE: 12451.61532955679\n",
      "MAPE: 1.4108917239111194\n"
     ]
    }
   ],
   "source": [
    "from sklearn.metrics import mean_absolute_error, root_mean_squared_error, r2_score,mean_absolute_percentage_error,mean_squared_error\n",
    "\n",
    "y_pred = model.predict(X_test_processed)\n",
    "\n",
    "print(\"MAE:\", mean_absolute_error(y_test, y_pred))\n",
    "print(\"RMSE:\", root_mean_squared_error(y_test, y_pred))\n",
    "print(\"R2 Score:\", r2_score(y_test, y_pred))\n",
    "print(\"MSE:\", mean_squared_error(y_test, y_pred))\n",
    "print(\"MAPE:\", mean_absolute_percentage_error(y_test, y_pred))\n",
    "\n",
    "\n"
   ]
  }
 ],
 "metadata": {
  "kernelspec": {
   "display_name": "Base",
   "language": "python",
   "name": "python3"
  },
  "language_info": {
   "codemirror_mode": {
    "name": "ipython",
    "version": 3
   },
   "file_extension": ".py",
   "mimetype": "text/x-python",
   "name": "python",
   "nbconvert_exporter": "python",
   "pygments_lexer": "ipython3",
   "version": "3.12.0"
  }
 },
 "nbformat": 4,
 "nbformat_minor": 5
}
